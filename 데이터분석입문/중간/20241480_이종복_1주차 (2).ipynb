{
 "cells": [
  {
   "cell_type": "code",
   "execution_count": 7,
   "id": "9353ae2d-cacd-4c0e-b690-f81b41d2abe5",
   "metadata": {},
   "outputs": [
    {
     "data": {
      "text/plain": [
       "(int, float)"
      ]
     },
     "execution_count": 7,
     "metadata": {},
     "output_type": "execute_result"
    }
   ],
   "source": [
    "type(1),type(3.5)"
   ]
  },
  {
   "cell_type": "code",
   "execution_count": 11,
   "id": "1ec60158-5d70-424d-b309-567a736839a6",
   "metadata": {},
   "outputs": [
    {
     "data": {
      "text/plain": [
       "(str, bool)"
      ]
     },
     "execution_count": 11,
     "metadata": {},
     "output_type": "execute_result"
    }
   ],
   "source": [
    "type('py'),type(True)"
   ]
  },
  {
   "cell_type": "code",
   "execution_count": 13,
   "id": "6ed4d876-20de-4717-82cb-72c837e47d84",
   "metadata": {},
   "outputs": [
    {
     "data": {
      "text/plain": [
       "(list, tuple)"
      ]
     },
     "execution_count": 13,
     "metadata": {},
     "output_type": "execute_result"
    }
   ],
   "source": [
    "type([]),type((1,))"
   ]
  },
  {
   "cell_type": "code",
   "execution_count": 15,
   "id": "ad85aa31-8f2d-49dd-a426-a6454e5204ac",
   "metadata": {},
   "outputs": [
    {
     "data": {
      "text/plain": [
       "(dict, set)"
      ]
     },
     "execution_count": 15,
     "metadata": {},
     "output_type": "execute_result"
    }
   ],
   "source": [
    "type({1:1,2:4}),type({1,2,3})"
   ]
  },
  {
   "cell_type": "code",
   "execution_count": 19,
   "id": "355e8364-24a1-4735-9ad6-de82a42ea034",
   "metadata": {},
   "outputs": [
    {
     "data": {
      "text/plain": [
       "(7, 4, 15, 1.5, 1)"
      ]
     },
     "execution_count": 19,
     "metadata": {},
     "output_type": "execute_result"
    }
   ],
   "source": [
    "3+4,10-6,3*5,3/2,3//2"
   ]
  },
  {
   "cell_type": "code",
   "execution_count": 21,
   "id": "816a89f9-68b7-40b9-b6f2-8e9793ea26b5",
   "metadata": {},
   "outputs": [
    {
     "data": {
      "text/plain": [
       "(9, 1)"
      ]
     },
     "execution_count": 21,
     "metadata": {},
     "output_type": "execute_result"
    }
   ],
   "source": [
    "3**2,10%3"
   ]
  },
  {
   "cell_type": "code",
   "execution_count": 23,
   "id": "a8e5e217-c251-4b26-a900-ace2618bb2ec",
   "metadata": {},
   "outputs": [
    {
     "data": {
      "text/plain": [
       "'python'"
      ]
     },
     "execution_count": 23,
     "metadata": {},
     "output_type": "execute_result"
    }
   ],
   "source": [
    "'py'+'thon'"
   ]
  },
  {
   "cell_type": "code",
   "execution_count": 25,
   "id": "b0ce0e09-c1b4-48cc-a0ee-f9a1bc8cfffb",
   "metadata": {},
   "outputs": [
    {
     "data": {
      "text/plain": [
       "'pypypy'"
      ]
     },
     "execution_count": 25,
     "metadata": {},
     "output_type": "execute_result"
    }
   ],
   "source": [
    "'py'*3"
   ]
  },
  {
   "cell_type": "code",
   "execution_count": 27,
   "id": "d97e45b1-447c-47d4-b22a-e0fcb063c8d0",
   "metadata": {},
   "outputs": [
    {
     "data": {
      "text/plain": [
       "(3, 1)"
      ]
     },
     "execution_count": 27,
     "metadata": {},
     "output_type": "execute_result"
    }
   ],
   "source": [
    "divmod(10,3)"
   ]
  },
  {
   "cell_type": "code",
   "execution_count": 29,
   "id": "adc46d98-4885-4a7e-a3f8-591cd19a9958",
   "metadata": {},
   "outputs": [
    {
     "data": {
      "text/plain": [
       "33.56"
      ]
     },
     "execution_count": 29,
     "metadata": {},
     "output_type": "execute_result"
    }
   ],
   "source": [
    "int('30')+float('3.56')"
   ]
  },
  {
   "cell_type": "code",
   "execution_count": 31,
   "id": "d34f7175-8db4-4a99-beed-3a08375558a5",
   "metadata": {},
   "outputs": [
    {
     "data": {
      "text/plain": [
       "(10, False)"
      ]
     },
     "execution_count": 31,
     "metadata": {},
     "output_type": "execute_result"
    }
   ],
   "source": [
    "abs(-10),bool(0)"
   ]
  },
  {
   "cell_type": "code",
   "execution_count": 33,
   "id": "b6281065-a692-410b-bb65-0046f85c7080",
   "metadata": {},
   "outputs": [
    {
     "data": {
      "text/plain": [
       "('Z', 97, 65)"
      ]
     },
     "execution_count": 33,
     "metadata": {},
     "output_type": "execute_result"
    }
   ],
   "source": [
    "chr(90),ord('a'),ord('A')"
   ]
  },
  {
   "cell_type": "code",
   "execution_count": 35,
   "id": "29b857c5-9d00-437e-9c7c-5c4cdd2dfa1c",
   "metadata": {},
   "outputs": [
    {
     "data": {
      "text/plain": [
       "23"
      ]
     },
     "execution_count": 35,
     "metadata": {},
     "output_type": "execute_result"
    }
   ],
   "source": [
    "eval('3+4*5')"
   ]
  },
  {
   "cell_type": "code",
   "execution_count": 37,
   "id": "ada0a209-4f54-4446-a801-12619369eab8",
   "metadata": {},
   "outputs": [
    {
     "data": {
      "text/plain": [
       "140714659693152"
      ]
     },
     "execution_count": 37,
     "metadata": {},
     "output_type": "execute_result"
    }
   ],
   "source": [
    "s='py'\n",
    "id(s)"
   ]
  },
  {
   "cell_type": "code",
   "execution_count": 41,
   "id": "d8086632-606d-4fd7-bbec-f40578557ed7",
   "metadata": {},
   "outputs": [
    {
     "name": "stdin",
     "output_type": "stream",
     "text": [
      "나이는?  20\n"
     ]
    },
    {
     "data": {
      "text/plain": [
       "20"
      ]
     },
     "execution_count": 41,
     "metadata": {},
     "output_type": "execute_result"
    }
   ],
   "source": [
    "data=input('나이는? ')\n",
    "data=int(data)\n",
    "data"
   ]
  },
  {
   "cell_type": "code",
   "execution_count": 45,
   "id": "6593c0a6-7336-41ea-941b-645e5360d542",
   "metadata": {},
   "outputs": [
    {
     "data": {
      "text/plain": [
       "'1.26.4'"
      ]
     },
     "execution_count": 45,
     "metadata": {},
     "output_type": "execute_result"
    }
   ],
   "source": [
    "import numpy as np\n",
    "\n",
    "np.__version__"
   ]
  },
  {
   "cell_type": "code",
   "execution_count": 49,
   "id": "40ed2d8c-dd6e-4e9b-9289-8fa98ac88e7b",
   "metadata": {},
   "outputs": [
    {
     "data": {
      "text/plain": [
       "'3.8.4'"
      ]
     },
     "execution_count": 49,
     "metadata": {},
     "output_type": "execute_result"
    }
   ],
   "source": [
    "import matplotlib as mpl\n",
    "\n",
    "mpl.__version__"
   ]
  },
  {
   "cell_type": "code",
   "execution_count": 56,
   "id": "2dd47e4b-92f2-4cda-b900-46201d0674c7",
   "metadata": {},
   "outputs": [
    {
     "name": "stdout",
     "output_type": "stream",
     "text": [
      "Requirement already satisfied: numpy in c:\\users\\109-1\\anaconda3\\lib\\site-packages (1.26.4)\n",
      "Requirement already satisfied: matplotlib in c:\\users\\109-1\\anaconda3\\lib\\site-packages (3.8.4)\n",
      "Requirement already satisfied: contourpy>=1.0.1 in c:\\users\\109-1\\anaconda3\\lib\\site-packages (from matplotlib) (1.2.0)\n",
      "Requirement already satisfied: cycler>=0.10 in c:\\users\\109-1\\anaconda3\\lib\\site-packages (from matplotlib) (0.11.0)\n",
      "Requirement already satisfied: fonttools>=4.22.0 in c:\\users\\109-1\\anaconda3\\lib\\site-packages (from matplotlib) (4.51.0)\n",
      "Requirement already satisfied: kiwisolver>=1.3.1 in c:\\users\\109-1\\anaconda3\\lib\\site-packages (from matplotlib) (1.4.4)\n",
      "Requirement already satisfied: numpy>=1.21 in c:\\users\\109-1\\anaconda3\\lib\\site-packages (from matplotlib) (1.26.4)\n",
      "Requirement already satisfied: packaging>=20.0 in c:\\users\\109-1\\anaconda3\\lib\\site-packages (from matplotlib) (23.2)\n",
      "Requirement already satisfied: pillow>=8 in c:\\users\\109-1\\anaconda3\\lib\\site-packages (from matplotlib) (10.3.0)\n",
      "Requirement already satisfied: pyparsing>=2.3.1 in c:\\users\\109-1\\anaconda3\\lib\\site-packages (from matplotlib) (3.0.9)\n",
      "Requirement already satisfied: python-dateutil>=2.7 in c:\\users\\109-1\\anaconda3\\lib\\site-packages (from matplotlib) (2.9.0.post0)\n",
      "Requirement already satisfied: six>=1.5 in c:\\users\\109-1\\anaconda3\\lib\\site-packages (from python-dateutil>=2.7->matplotlib) (1.16.0)\n"
     ]
    }
   ],
   "source": [
    "!pip install numpy\n",
    "!pip install matplotlib"
   ]
  },
  {
   "cell_type": "code",
   "execution_count": 62,
   "id": "f93beb36-4e50-4279-b40a-26c79f656b12",
   "metadata": {},
   "outputs": [],
   "source": [
    "%config InlineBackend.figure_fomat='retina'"
   ]
  },
  {
   "cell_type": "code",
   "execution_count": 60,
   "id": "004b233f-2222-4825-8bf0-72b45b2a8e05",
   "metadata": {
    "scrolled": true
   },
   "outputs": [
    {
     "name": "stdout",
     "output_type": "stream",
     "text": [
      "Collecting koreanize-matplotlib\n",
      "  Downloading koreanize_matplotlib-0.1.1-py3-none-any.whl.metadata (992 bytes)\n",
      "Requirement already satisfied: matplotlib in c:\\users\\109-1\\anaconda3\\lib\\site-packages (from koreanize-matplotlib) (3.8.4)\n",
      "Requirement already satisfied: contourpy>=1.0.1 in c:\\users\\109-1\\anaconda3\\lib\\site-packages (from matplotlib->koreanize-matplotlib) (1.2.0)\n",
      "Requirement already satisfied: cycler>=0.10 in c:\\users\\109-1\\anaconda3\\lib\\site-packages (from matplotlib->koreanize-matplotlib) (0.11.0)\n",
      "Requirement already satisfied: fonttools>=4.22.0 in c:\\users\\109-1\\anaconda3\\lib\\site-packages (from matplotlib->koreanize-matplotlib) (4.51.0)\n",
      "Requirement already satisfied: kiwisolver>=1.3.1 in c:\\users\\109-1\\anaconda3\\lib\\site-packages (from matplotlib->koreanize-matplotlib) (1.4.4)\n",
      "Requirement already satisfied: numpy>=1.21 in c:\\users\\109-1\\anaconda3\\lib\\site-packages (from matplotlib->koreanize-matplotlib) (1.26.4)\n",
      "Requirement already satisfied: packaging>=20.0 in c:\\users\\109-1\\anaconda3\\lib\\site-packages (from matplotlib->koreanize-matplotlib) (23.2)\n",
      "Requirement already satisfied: pillow>=8 in c:\\users\\109-1\\anaconda3\\lib\\site-packages (from matplotlib->koreanize-matplotlib) (10.3.0)\n",
      "Requirement already satisfied: pyparsing>=2.3.1 in c:\\users\\109-1\\anaconda3\\lib\\site-packages (from matplotlib->koreanize-matplotlib) (3.0.9)\n",
      "Requirement already satisfied: python-dateutil>=2.7 in c:\\users\\109-1\\anaconda3\\lib\\site-packages (from matplotlib->koreanize-matplotlib) (2.9.0.post0)\n",
      "Requirement already satisfied: six>=1.5 in c:\\users\\109-1\\anaconda3\\lib\\site-packages (from python-dateutil>=2.7->matplotlib->koreanize-matplotlib) (1.16.0)\n",
      "Downloading koreanize_matplotlib-0.1.1-py3-none-any.whl (7.9 MB)\n",
      "   ---------------------------------------- 0.0/7.9 MB ? eta -:--:--\n",
      "   ---------------------------------------- 0.1/7.9 MB 1.1 MB/s eta 0:00:08\n",
      "   -- ------------------------------------- 0.5/7.9 MB 5.3 MB/s eta 0:00:02\n",
      "   ------ --------------------------------- 1.2/7.9 MB 8.5 MB/s eta 0:00:01\n",
      "   ---------- ----------------------------- 2.1/7.9 MB 11.1 MB/s eta 0:00:01\n",
      "   ------------ --------------------------- 2.5/7.9 MB 10.1 MB/s eta 0:00:01\n",
      "   ----------------------- ---------------- 4.6/7.9 MB 15.4 MB/s eta 0:00:01\n",
      "   ------------------------------- -------- 6.3/7.9 MB 18.4 MB/s eta 0:00:01\n",
      "   ---------------------------------------- 7.9/7.9 MB 21.2 MB/s eta 0:00:00\n",
      "Installing collected packages: koreanize-matplotlib\n",
      "Successfully installed koreanize-matplotlib-0.1.1\n"
     ]
    }
   ],
   "source": [
    "!pip install koreanize-matplotlib"
   ]
  },
  {
   "cell_type": "code",
   "execution_count": 64,
   "id": "45a48230-2980-4a6f-87ac-84df9c85e20c",
   "metadata": {},
   "outputs": [],
   "source": [
    "import matplotlib.pyplot as plt\n",
    "\n",
    "plt.rc('font',family='Malgun Gothic')\n",
    "plt.rc('axes',unicode_minus=False)"
   ]
  },
  {
   "cell_type": "code",
   "execution_count": 66,
   "id": "e6f5b2f4-d28d-4234-af45-5f21af0e1821",
   "metadata": {},
   "outputs": [],
   "source": [
    "import matplotlib.pyplot as plt\n",
    "\n",
    "plt.rcParams['font.family']='Malgun Gothic'\n",
    "plt.rcParams['axes.unicode_minus']=False"
   ]
  },
  {
   "cell_type": "code",
   "execution_count": 68,
   "id": "71a61fef-9c0e-48f4-9538-c198c51635de",
   "metadata": {},
   "outputs": [],
   "source": [
    "#import koreanize_matplotlib # for colab\n",
    "import matplotlib.pyplot as plt"
   ]
  },
  {
   "cell_type": "code",
   "execution_count": 76,
   "id": "26ef1f12-1272-4c61-853d-cb47829f05fd",
   "metadata": {
    "scrolled": true
   },
   "outputs": [
    {
     "data": {
      "image/png": "[encoded data removed]",
      "text/plain": [
       "<Figure size 640x480 with 1 Axes>"
      ]
     },
     "metadata": {},
     "output_type": "display_data"
    }
   ],
   "source": [
    "import matplotlib.pyplot as plt\n",
    "\n",
    "plt.title('테이터 시각화의 한글 준비와 기본 직선 그래프')\n",
    "plt.plot([8,15,40,10])\n",
    "plt.show()"
   ]
  },
  {
   "cell_type": "code",
   "execution_count": 87,
   "id": "ac80025f-2290-428d-a93b-fc67ccd1ac2d",
   "metadata": {},
   "outputs": [
    {
     "data": {
      "text/html": [
       "<div>\n",
       "<style scoped>\n",
       "    .dataframe tbody tr th:only-of-type {\n",
       "        vertical-align: middle;\n",
       "    }\n",
       "\n",
       "    .dataframe tbody tr th {\n",
       "        vertical-align: top;\n",
       "    }\n",
       "\n",
       "    .dataframe thead th {\n",
       "        text-align: right;\n",
       "    }\n",
       "</style>\n",
       "<table border=\"1\" class=\"dataframe\">\n",
       "  <thead>\n",
       "    <tr style=\"text-align: right;\">\n",
       "      <th></th>\n",
       "      <th>2024년08월_총인구수</th>\n",
       "      <th>2024년08월_세대수</th>\n",
       "      <th>2024년08월_세대당 인구</th>\n",
       "      <th>2024년08월_남자 인구수</th>\n",
       "      <th>2024년08월_여자 인구수</th>\n",
       "      <th>2024년08월_남여 비율</th>\n",
       "    </tr>\n",
       "    <tr>\n",
       "      <th>행정구역</th>\n",
       "      <th></th>\n",
       "      <th></th>\n",
       "      <th></th>\n",
       "      <th></th>\n",
       "      <th></th>\n",
       "      <th></th>\n",
       "    </tr>\n",
       "  </thead>\n",
       "  <tbody>\n",
       "    <tr>\n",
       "      <th>전국  (1000000000)</th>\n",
       "      <td>51256511</td>\n",
       "      <td>24087679</td>\n",
       "      <td>2.13</td>\n",
       "      <td>25522808</td>\n",
       "      <td>25733703</td>\n",
       "      <td>0.99</td>\n",
       "    </tr>\n",
       "    <tr>\n",
       "      <th>서울특별시  (1100000000)</th>\n",
       "      <td>9355801</td>\n",
       "      <td>4487525</td>\n",
       "      <td>2.08</td>\n",
       "      <td>4518536</td>\n",
       "      <td>4837265</td>\n",
       "      <td>0.93</td>\n",
       "    </tr>\n",
       "    <tr>\n",
       "      <th>부산광역시  (2600000000)</th>\n",
       "      <td>3275593</td>\n",
       "      <td>1570760</td>\n",
       "      <td>2.09</td>\n",
       "      <td>1594978</td>\n",
       "      <td>1680615</td>\n",
       "      <td>0.95</td>\n",
       "    </tr>\n",
       "    <tr>\n",
       "      <th>대구광역시  (2700000000)</th>\n",
       "      <td>2366033</td>\n",
       "      <td>1101929</td>\n",
       "      <td>2.15</td>\n",
       "      <td>1161164</td>\n",
       "      <td>1204869</td>\n",
       "      <td>0.96</td>\n",
       "    </tr>\n",
       "    <tr>\n",
       "      <th>인천광역시  (2800000000)</th>\n",
       "      <td>3014770</td>\n",
       "      <td>1368072</td>\n",
       "      <td>2.20</td>\n",
       "      <td>1506680</td>\n",
       "      <td>1508090</td>\n",
       "      <td>1.00</td>\n",
       "    </tr>\n",
       "    <tr>\n",
       "      <th>광주광역시  (2900000000)</th>\n",
       "      <td>1412063</td>\n",
       "      <td>658010</td>\n",
       "      <td>2.15</td>\n",
       "      <td>697079</td>\n",
       "      <td>714984</td>\n",
       "      <td>0.97</td>\n",
       "    </tr>\n",
       "    <tr>\n",
       "      <th>대전광역시  (3000000000)</th>\n",
       "      <td>1439926</td>\n",
       "      <td>686895</td>\n",
       "      <td>2.10</td>\n",
       "      <td>717878</td>\n",
       "      <td>722048</td>\n",
       "      <td>0.99</td>\n",
       "    </tr>\n",
       "    <tr>\n",
       "      <th>울산광역시  (3100000000)</th>\n",
       "      <td>1099231</td>\n",
       "      <td>494386</td>\n",
       "      <td>2.22</td>\n",
       "      <td>565290</td>\n",
       "      <td>533941</td>\n",
       "      <td>1.06</td>\n",
       "    </tr>\n",
       "    <tr>\n",
       "      <th>세종특별자치시  (3600000000)</th>\n",
       "      <td>389370</td>\n",
       "      <td>162837</td>\n",
       "      <td>2.39</td>\n",
       "      <td>193826</td>\n",
       "      <td>195544</td>\n",
       "      <td>0.99</td>\n",
       "    </tr>\n",
       "    <tr>\n",
       "      <th>경기도  (4100000000)</th>\n",
       "      <td>13675873</td>\n",
       "      <td>6039455</td>\n",
       "      <td>2.26</td>\n",
       "      <td>6875411</td>\n",
       "      <td>6800462</td>\n",
       "      <td>1.01</td>\n",
       "    </tr>\n",
       "    <tr>\n",
       "      <th>강원특별자치도  (5100000000)</th>\n",
       "      <td>1521066</td>\n",
       "      <td>764793</td>\n",
       "      <td>1.99</td>\n",
       "      <td>764911</td>\n",
       "      <td>756155</td>\n",
       "      <td>1.01</td>\n",
       "    </tr>\n",
       "    <tr>\n",
       "      <th>충청북도  (4300000000)</th>\n",
       "      <td>1590716</td>\n",
       "      <td>785621</td>\n",
       "      <td>2.02</td>\n",
       "      <td>809546</td>\n",
       "      <td>781170</td>\n",
       "      <td>1.04</td>\n",
       "    </tr>\n",
       "    <tr>\n",
       "      <th>충청남도  (4400000000)</th>\n",
       "      <td>2135281</td>\n",
       "      <td>1048985</td>\n",
       "      <td>2.04</td>\n",
       "      <td>1095246</td>\n",
       "      <td>1040035</td>\n",
       "      <td>1.05</td>\n",
       "    </tr>\n",
       "    <tr>\n",
       "      <th>전북특별자치도  (5200000000)</th>\n",
       "      <td>1743183</td>\n",
       "      <td>864007</td>\n",
       "      <td>2.02</td>\n",
       "      <td>867993</td>\n",
       "      <td>875190</td>\n",
       "      <td>0.99</td>\n",
       "    </tr>\n",
       "    <tr>\n",
       "      <th>전라남도  (4600000000)</th>\n",
       "      <td>1792390</td>\n",
       "      <td>912733</td>\n",
       "      <td>1.96</td>\n",
       "      <td>904171</td>\n",
       "      <td>888219</td>\n",
       "      <td>1.02</td>\n",
       "    </tr>\n",
       "    <tr>\n",
       "      <th>경상북도  (4700000000)</th>\n",
       "      <td>2540046</td>\n",
       "      <td>1291675</td>\n",
       "      <td>1.97</td>\n",
       "      <td>1284828</td>\n",
       "      <td>1255218</td>\n",
       "      <td>1.02</td>\n",
       "    </tr>\n",
       "    <tr>\n",
       "      <th>경상남도  (4800000000)</th>\n",
       "      <td>3233629</td>\n",
       "      <td>1535333</td>\n",
       "      <td>2.11</td>\n",
       "      <td>1629223</td>\n",
       "      <td>1604406</td>\n",
       "      <td>1.02</td>\n",
       "    </tr>\n",
       "    <tr>\n",
       "      <th>제주특별자치도  (5000000000)</th>\n",
       "      <td>671540</td>\n",
       "      <td>314663</td>\n",
       "      <td>2.13</td>\n",
       "      <td>336048</td>\n",
       "      <td>335492</td>\n",
       "      <td>1.00</td>\n",
       "    </tr>\n",
       "  </tbody>\n",
       "</table>\n",
       "</div>"
      ],
      "text/plain": [
       "                       2024년08월_총인구수  2024년08월_세대수  2024년08월_세대당 인구  \\\n",
       "행정구역                                                                  \n",
       "전국  (1000000000)            51256511      24087679             2.13   \n",
       "서울특별시  (1100000000)          9355801       4487525             2.08   \n",
       "부산광역시  (2600000000)          3275593       1570760             2.09   \n",
       "대구광역시  (2700000000)          2366033       1101929             2.15   \n",
       "인천광역시  (2800000000)          3014770       1368072             2.20   \n",
       "광주광역시  (2900000000)          1412063        658010             2.15   \n",
       "대전광역시  (3000000000)          1439926        686895             2.10   \n",
       "울산광역시  (3100000000)          1099231        494386             2.22   \n",
       "세종특별자치시  (3600000000)         389370        162837             2.39   \n",
       "경기도  (4100000000)           13675873       6039455             2.26   \n",
       "강원특별자치도  (5100000000)        1521066        764793             1.99   \n",
       "충청북도  (4300000000)           1590716        785621             2.02   \n",
       "충청남도  (4400000000)           2135281       1048985             2.04   \n",
       "전북특별자치도  (5200000000)        1743183        864007             2.02   \n",
       "전라남도  (4600000000)           1792390        912733             1.96   \n",
       "경상북도  (4700000000)           2540046       1291675             1.97   \n",
       "경상남도  (4800000000)           3233629       1535333             2.11   \n",
       "제주특별자치도  (5000000000)         671540        314663             2.13   \n",
       "\n",
       "                       2024년08월_남자 인구수  2024년08월_여자 인구수  2024년08월_남여 비율  \n",
       "행정구역                                                                     \n",
       "전국  (1000000000)              25522808         25733703            0.99  \n",
       "서울특별시  (1100000000)            4518536          4837265            0.93  \n",
       "부산광역시  (2600000000)            1594978          1680615            0.95  \n",
       "대구광역시  (2700000000)            1161164          1204869            0.96  \n",
       "인천광역시  (2800000000)            1506680          1508090            1.00  \n",
       "광주광역시  (2900000000)             697079           714984            0.97  \n",
       "대전광역시  (3000000000)             717878           722048            0.99  \n",
       "울산광역시  (3100000000)             565290           533941            1.06  \n",
       "세종특별자치시  (3600000000)           193826           195544            0.99  \n",
       "경기도  (4100000000)              6875411          6800462            1.01  \n",
       "강원특별자치도  (5100000000)           764911           756155            1.01  \n",
       "충청북도  (4300000000)              809546           781170            1.04  \n",
       "충청남도  (4400000000)             1095246          1040035            1.05  \n",
       "전북특별자치도  (5200000000)           867993           875190            0.99  \n",
       "전라남도  (4600000000)              904171           888219            1.02  \n",
       "경상북도  (4700000000)             1284828          1255218            1.02  \n",
       "경상남도  (4800000000)             1629223          1604406            1.02  \n",
       "제주특별자치도  (5000000000)           336048           335492            1.00  "
      ]
     },
     "execution_count": 87,
     "metadata": {},
     "output_type": "execute_result"
    }
   ],
   "source": [
    "import pandas as pd\n",
    "\n",
    "pop=pd.read_csv(\"202408_202408_주민등록인구및세대현황_월간.csv\",encoding='cp949',index_col=0,thousands=',')\n",
    "pop"
   ]
  },
  {
   "cell_type": "code",
   "execution_count": 111,
   "id": "59773411-0030-4db9-a8a0-82f86f49d36f",
   "metadata": {},
   "outputs": [
    {
     "data": {
      "text/html": [
       "<div>\n",
       "<style scoped>\n",
       "    .dataframe tbody tr th:only-of-type {\n",
       "        vertical-align: middle;\n",
       "    }\n",
       "\n",
       "    .dataframe tbody tr th {\n",
       "        vertical-align: top;\n",
       "    }\n",
       "\n",
       "    .dataframe thead th {\n",
       "        text-align: right;\n",
       "    }\n",
       "</style>\n",
       "<table border=\"1\" class=\"dataframe\">\n",
       "  <thead>\n",
       "    <tr style=\"text-align: right;\">\n",
       "      <th></th>\n",
       "      <th>총인구수</th>\n",
       "      <th>세대수</th>\n",
       "      <th>세대당인구</th>\n",
       "      <th>남자인구수</th>\n",
       "      <th>여자인구수</th>\n",
       "      <th>남여비율</th>\n",
       "    </tr>\n",
       "    <tr>\n",
       "      <th>행정구역</th>\n",
       "      <th></th>\n",
       "      <th></th>\n",
       "      <th></th>\n",
       "      <th></th>\n",
       "      <th></th>\n",
       "      <th></th>\n",
       "    </tr>\n",
       "  </thead>\n",
       "  <tbody>\n",
       "    <tr>\n",
       "      <th>전국  (1000000000)</th>\n",
       "      <td>51256511</td>\n",
       "      <td>24087679</td>\n",
       "      <td>2.13</td>\n",
       "      <td>25522808</td>\n",
       "      <td>25733703</td>\n",
       "      <td>0.99</td>\n",
       "    </tr>\n",
       "    <tr>\n",
       "      <th>서울특별시  (1100000000)</th>\n",
       "      <td>9355801</td>\n",
       "      <td>4487525</td>\n",
       "      <td>2.08</td>\n",
       "      <td>4518536</td>\n",
       "      <td>4837265</td>\n",
       "      <td>0.93</td>\n",
       "    </tr>\n",
       "    <tr>\n",
       "      <th>부산광역시  (2600000000)</th>\n",
       "      <td>3275593</td>\n",
       "      <td>1570760</td>\n",
       "      <td>2.09</td>\n",
       "      <td>1594978</td>\n",
       "      <td>1680615</td>\n",
       "      <td>0.95</td>\n",
       "    </tr>\n",
       "    <tr>\n",
       "      <th>대구광역시  (2700000000)</th>\n",
       "      <td>2366033</td>\n",
       "      <td>1101929</td>\n",
       "      <td>2.15</td>\n",
       "      <td>1161164</td>\n",
       "      <td>1204869</td>\n",
       "      <td>0.96</td>\n",
       "    </tr>\n",
       "    <tr>\n",
       "      <th>인천광역시  (2800000000)</th>\n",
       "      <td>3014770</td>\n",
       "      <td>1368072</td>\n",
       "      <td>2.20</td>\n",
       "      <td>1506680</td>\n",
       "      <td>1508090</td>\n",
       "      <td>1.00</td>\n",
       "    </tr>\n",
       "  </tbody>\n",
       "</table>\n",
       "</div>"
      ],
      "text/plain": [
       "                         총인구수       세대수  세대당인구     남자인구수     여자인구수  남여비율\n",
       "행정구역                                                                    \n",
       "전국  (1000000000)     51256511  24087679   2.13  25522808  25733703  0.99\n",
       "서울특별시  (1100000000)   9355801   4487525   2.08   4518536   4837265  0.93\n",
       "부산광역시  (2600000000)   3275593   1570760   2.09   1594978   1680615  0.95\n",
       "대구광역시  (2700000000)   2366033   1101929   2.15   1161164   1204869  0.96\n",
       "인천광역시  (2800000000)   3014770   1368072   2.20   1506680   1508090  1.00"
      ]
     },
     "execution_count": 111,
     "metadata": {},
     "output_type": "execute_result"
    }
   ],
   "source": [
    "pop.columns=['총인구수','세대수','세대당인구','남자인구수','여자인구수','남여비율']\n",
    "pop.head()"
   ]
  },
  {
   "cell_type": "code",
   "execution_count": 113,
   "id": "0b5159ac-b29f-4e81-8c94-0a8e52dc7ab4",
   "metadata": {},
   "outputs": [
    {
     "data": {
      "text/html": [
       "<div>\n",
       "<style scoped>\n",
       "    .dataframe tbody tr th:only-of-type {\n",
       "        vertical-align: middle;\n",
       "    }\n",
       "\n",
       "    .dataframe tbody tr th {\n",
       "        vertical-align: top;\n",
       "    }\n",
       "\n",
       "    .dataframe thead th {\n",
       "        text-align: right;\n",
       "    }\n",
       "</style>\n",
       "<table border=\"1\" class=\"dataframe\">\n",
       "  <thead>\n",
       "    <tr style=\"text-align: right;\">\n",
       "      <th></th>\n",
       "      <th>총인구수</th>\n",
       "      <th>세대수</th>\n",
       "      <th>세대당인구</th>\n",
       "      <th>남자인구수</th>\n",
       "      <th>여자인구수</th>\n",
       "      <th>남여비율</th>\n",
       "    </tr>\n",
       "  </thead>\n",
       "  <tbody>\n",
       "    <tr>\n",
       "      <th>전국</th>\n",
       "      <td>51256511</td>\n",
       "      <td>24087679</td>\n",
       "      <td>2.13</td>\n",
       "      <td>25522808</td>\n",
       "      <td>25733703</td>\n",
       "      <td>0.99</td>\n",
       "    </tr>\n",
       "    <tr>\n",
       "      <th>서울특별시</th>\n",
       "      <td>9355801</td>\n",
       "      <td>4487525</td>\n",
       "      <td>2.08</td>\n",
       "      <td>4518536</td>\n",
       "      <td>4837265</td>\n",
       "      <td>0.93</td>\n",
       "    </tr>\n",
       "    <tr>\n",
       "      <th>부산광역시</th>\n",
       "      <td>3275593</td>\n",
       "      <td>1570760</td>\n",
       "      <td>2.09</td>\n",
       "      <td>1594978</td>\n",
       "      <td>1680615</td>\n",
       "      <td>0.95</td>\n",
       "    </tr>\n",
       "    <tr>\n",
       "      <th>대구광역시</th>\n",
       "      <td>2366033</td>\n",
       "      <td>1101929</td>\n",
       "      <td>2.15</td>\n",
       "      <td>1161164</td>\n",
       "      <td>1204869</td>\n",
       "      <td>0.96</td>\n",
       "    </tr>\n",
       "    <tr>\n",
       "      <th>인천광역시</th>\n",
       "      <td>3014770</td>\n",
       "      <td>1368072</td>\n",
       "      <td>2.20</td>\n",
       "      <td>1506680</td>\n",
       "      <td>1508090</td>\n",
       "      <td>1.00</td>\n",
       "    </tr>\n",
       "    <tr>\n",
       "      <th>광주광역시</th>\n",
       "      <td>1412063</td>\n",
       "      <td>658010</td>\n",
       "      <td>2.15</td>\n",
       "      <td>697079</td>\n",
       "      <td>714984</td>\n",
       "      <td>0.97</td>\n",
       "    </tr>\n",
       "    <tr>\n",
       "      <th>대전광역시</th>\n",
       "      <td>1439926</td>\n",
       "      <td>686895</td>\n",
       "      <td>2.10</td>\n",
       "      <td>717878</td>\n",
       "      <td>722048</td>\n",
       "      <td>0.99</td>\n",
       "    </tr>\n",
       "    <tr>\n",
       "      <th>울산광역시</th>\n",
       "      <td>1099231</td>\n",
       "      <td>494386</td>\n",
       "      <td>2.22</td>\n",
       "      <td>565290</td>\n",
       "      <td>533941</td>\n",
       "      <td>1.06</td>\n",
       "    </tr>\n",
       "    <tr>\n",
       "      <th>세종특별자치시</th>\n",
       "      <td>389370</td>\n",
       "      <td>162837</td>\n",
       "      <td>2.39</td>\n",
       "      <td>193826</td>\n",
       "      <td>195544</td>\n",
       "      <td>0.99</td>\n",
       "    </tr>\n",
       "    <tr>\n",
       "      <th>경기도</th>\n",
       "      <td>13675873</td>\n",
       "      <td>6039455</td>\n",
       "      <td>2.26</td>\n",
       "      <td>6875411</td>\n",
       "      <td>6800462</td>\n",
       "      <td>1.01</td>\n",
       "    </tr>\n",
       "    <tr>\n",
       "      <th>강원특별자치도</th>\n",
       "      <td>1521066</td>\n",
       "      <td>764793</td>\n",
       "      <td>1.99</td>\n",
       "      <td>764911</td>\n",
       "      <td>756155</td>\n",
       "      <td>1.01</td>\n",
       "    </tr>\n",
       "    <tr>\n",
       "      <th>충청북도</th>\n",
       "      <td>1590716</td>\n",
       "      <td>785621</td>\n",
       "      <td>2.02</td>\n",
       "      <td>809546</td>\n",
       "      <td>781170</td>\n",
       "      <td>1.04</td>\n",
       "    </tr>\n",
       "    <tr>\n",
       "      <th>충청남도</th>\n",
       "      <td>2135281</td>\n",
       "      <td>1048985</td>\n",
       "      <td>2.04</td>\n",
       "      <td>1095246</td>\n",
       "      <td>1040035</td>\n",
       "      <td>1.05</td>\n",
       "    </tr>\n",
       "    <tr>\n",
       "      <th>전북특별자치도</th>\n",
       "      <td>1743183</td>\n",
       "      <td>864007</td>\n",
       "      <td>2.02</td>\n",
       "      <td>867993</td>\n",
       "      <td>875190</td>\n",
       "      <td>0.99</td>\n",
       "    </tr>\n",
       "    <tr>\n",
       "      <th>전라남도</th>\n",
       "      <td>1792390</td>\n",
       "      <td>912733</td>\n",
       "      <td>1.96</td>\n",
       "      <td>904171</td>\n",
       "      <td>888219</td>\n",
       "      <td>1.02</td>\n",
       "    </tr>\n",
       "    <tr>\n",
       "      <th>경상북도</th>\n",
       "      <td>2540046</td>\n",
       "      <td>1291675</td>\n",
       "      <td>1.97</td>\n",
       "      <td>1284828</td>\n",
       "      <td>1255218</td>\n",
       "      <td>1.02</td>\n",
       "    </tr>\n",
       "    <tr>\n",
       "      <th>경상남도</th>\n",
       "      <td>3233629</td>\n",
       "      <td>1535333</td>\n",
       "      <td>2.11</td>\n",
       "      <td>1629223</td>\n",
       "      <td>1604406</td>\n",
       "      <td>1.02</td>\n",
       "    </tr>\n",
       "    <tr>\n",
       "      <th>제주특별자치도</th>\n",
       "      <td>671540</td>\n",
       "      <td>314663</td>\n",
       "      <td>2.13</td>\n",
       "      <td>336048</td>\n",
       "      <td>335492</td>\n",
       "      <td>1.00</td>\n",
       "    </tr>\n",
       "  </tbody>\n",
       "</table>\n",
       "</div>"
      ],
      "text/plain": [
       "             총인구수       세대수  세대당인구     남자인구수     여자인구수  남여비율\n",
       "전국       51256511  24087679   2.13  25522808  25733703  0.99\n",
       "서울특별시     9355801   4487525   2.08   4518536   4837265  0.93\n",
       "부산광역시     3275593   1570760   2.09   1594978   1680615  0.95\n",
       "대구광역시     2366033   1101929   2.15   1161164   1204869  0.96\n",
       "인천광역시     3014770   1368072   2.20   1506680   1508090  1.00\n",
       "광주광역시     1412063    658010   2.15    697079    714984  0.97\n",
       "대전광역시     1439926    686895   2.10    717878    722048  0.99\n",
       "울산광역시     1099231    494386   2.22    565290    533941  1.06\n",
       "세종특별자치시    389370    162837   2.39    193826    195544  0.99\n",
       "경기도      13675873   6039455   2.26   6875411   6800462  1.01\n",
       "강원특별자치도   1521066    764793   1.99    764911    756155  1.01\n",
       "충청북도      1590716    785621   2.02    809546    781170  1.04\n",
       "충청남도      2135281   1048985   2.04   1095246   1040035  1.05\n",
       "전북특별자치도   1743183    864007   2.02    867993    875190  0.99\n",
       "전라남도      1792390    912733   1.96    904171    888219  1.02\n",
       "경상북도      2540046   1291675   1.97   1284828   1255218  1.02\n",
       "경상남도      3233629   1535333   2.11   1629223   1604406  1.02\n",
       "제주특별자치도    671540    314663   2.13    336048    335492  1.00"
      ]
     },
     "execution_count": 113,
     "metadata": {},
     "output_type": "execute_result"
    }
   ],
   "source": [
    "pop.index=[pop.index[i].split()[0] for i in range(len(pop))]\n",
    "pop"
   ]
  },
  {
   "cell_type": "code",
   "execution_count": 115,
   "id": "c5c0eb9f-543b-4e15-9667-d84beb4d4760",
   "metadata": {},
   "outputs": [
    {
     "data": {
      "image/png": "[encoded data removed]",
      "text/plain": [
       "<Figure size 640x480 with 1 Axes>"
      ]
     },
     "metadata": {},
     "output_type": "display_data"
    }
   ],
   "source": [
    "import matplotlib.pyplot as plt\n",
    "import seaborn as sns\n",
    "\n",
    "sns.scatterplot(pop['총인구수'])\n",
    "plt.xticks(rotation=90)\n",
    "plt.show()"
   ]
  },
  {
   "cell_type": "code",
   "execution_count": 117,
   "id": "e0627fb2-15ba-4a38-9f3b-5b72bba6b158",
   "metadata": {},
   "outputs": [
    {
     "data": {
      "image/png": "[encoded data removed]",
      "text/plain": [
       "<Figure size 640x480 with 1 Axes>"
      ]
     },
     "metadata": {},
     "output_type": "display_data"
    }
   ],
   "source": [
    "import matplotlib.pyplot as plt\n",
    "import seaborn as sns\n",
    "\n",
    "pop1=pop.sort_values('총인구수')\n",
    "sns.barplot(x=pop1.index,y='총인구수',data=pop1)\n",
    "plt.xticks(rotation=90)\n",
    "plt.show()"
   ]
  }
 ],
 "metadata": {
  "kernelspec": {
   "display_name": "Python 3 (ipykernel)",
   "language": "python",
   "name": "python3"
  },
  "language_info": {
   "codemirror_mode": {
    "name": "ipython",
    "version": 3
   },
   "file_extension": ".py",
   "mimetype": "text/x-python",
   "name": "python",
   "nbconvert_exporter": "python",
   "pygments_lexer": "ipython3",
   "version": "3.12.4"
  }
 },
 "nbformat": 4,
 "nbformat_minor": 5
}
