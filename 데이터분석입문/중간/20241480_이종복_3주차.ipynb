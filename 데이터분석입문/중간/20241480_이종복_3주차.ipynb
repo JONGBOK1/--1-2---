{
 "cells": [
  {
   "cell_type": "code",
   "execution_count": 4,
   "metadata": {},
   "outputs": [
    {
     "name": "stdout",
     "output_type": "stream",
     "text": [
      "['날짜', '지점', '평균기온(℃)', '최저기온(℃)', '최고기온(℃)']\n",
      "['\\t2024-08-20', '108', '31.4', '27', '35.4']\n",
      "['\\t2024-08-21', '108', '28.4', '26.9', '30.8']\n",
      "['\\t2024-08-22', '108', '28.6', '27.1', '30.3']\n",
      "['\\t2024-08-23', '108', '28.4', '26.4', '31.8']\n",
      "['\\t2024-08-24', '108', '27.6', '25.1', '30.9']\n",
      "['\\t2024-08-25', '108', '28.5', '24.9', '32.7']\n",
      "['\\t2024-08-26', '108', '28.1', '25.6', '30.6']\n",
      "['\\t2024-08-27', '108', '26.5', '24.6', '30.3']\n",
      "['\\t2024-08-28', '108', '28.2', '23', '33.2']\n",
      "['\\t2024-08-29', '108', '28.4', '23.4', '33.5']\n",
      "['\\t2024-08-30', '108', '28', '23.7', '32.9']\n",
      "['\\t2024-08-31', '108', '27.6', '22.6', '33']\n",
      "['\\t2024-09-01', '108', '27.1', '24.6', '31.6']\n",
      "['\\t2024-09-02', '108', '24.5', '22.2', '26.9']\n",
      "['\\t2024-09-03', '108', '27', '23.2', '32']\n",
      "['\\t2024-09-04', '108', '27.9', '23.2', '33.3']\n",
      "['\\t2024-09-05', '108', '26.3', '25.6', '28.8']\n",
      "['\\t2024-09-06', '108', '24', '23.3', '25.7']\n",
      "['\\t2024-09-07', '108', '26.5', '22.8', '31.3']\n",
      "['\\t2024-09-08', '108', '27.2', '22.6', '32.8']\n",
      "['\\t2024-09-09', '108', '28.5', '24.1', '34.1']\n",
      "['\\t2024-09-10', '108', '29.4', '25.6', '33.9']\n",
      "['\\t2024-09-11', '108', '29', '25.4', '34.6']\n",
      "['\\t2024-09-12', '108', '25.4', '24.8', '27.1']\n",
      "['\\t2024-09-13', '108', '25.9', '24.2', '28']\n",
      "['\\t2024-09-14', '108', '28', '25.2', '32.2']\n",
      "['\\t2024-09-15', '108', '27.5', '24.2', '32.4']\n",
      "['\\t2024-09-16', '108', '26.8', '21.3', '32.2']\n",
      "['\\t2024-09-17', '108', '28.6', '25.8', '33.2']\n",
      "['\\t2024-09-18', '108', '29.4', '26.5', '33.6']\n",
      "['\\t', '', '', '', '']\n"
     ]
    }
   ],
   "source": [
    "import csv\n",
    "f=open('seoul.csv','r', encoding='cp949')\n",
    "data=csv.reader(f)\n",
    "\n",
    "for row in data:\n",
    "    print(row)\n",
    "f.close()"
   ]
  },
  {
   "cell_type": "code",
   "execution_count": 3,
   "metadata": {},
   "outputs": [
    {
     "name": "stdout",
     "output_type": "stream",
     "text": [
      "['날짜', '지점', '평균기온(℃)', '최저기온(℃)', '최고기온(℃)']\n",
      "['\\t2024-08-20', '108', '31.4', '27', '35.4']\n",
      "['\\t2024-08-21', '108', '28.4', '26.9', '30.8']\n",
      "['\\t2024-08-22', '108', '28.6', '27.1', '30.3']\n",
      "['\\t2024-08-23', '108', '28.4', '26.4', '31.8']\n",
      "['\\t2024-08-24', '108', '27.6', '25.1', '30.9']\n",
      "['\\t2024-08-25', '108', '28.5', '24.9', '32.7']\n",
      "['\\t2024-08-26', '108', '28.1', '25.6', '30.6']\n",
      "['\\t2024-08-27', '108', '26.5', '24.6', '30.3']\n",
      "['\\t2024-08-28', '108', '28.2', '23', '33.2']\n",
      "['\\t2024-08-29', '108', '28.4', '23.4', '33.5']\n",
      "['\\t2024-08-30', '108', '28', '23.7', '32.9']\n",
      "['\\t2024-08-31', '108', '27.6', '22.6', '33']\n",
      "['\\t2024-09-01', '108', '27.1', '24.6', '31.6']\n",
      "['\\t2024-09-02', '108', '24.5', '22.2', '26.9']\n",
      "['\\t2024-09-03', '108', '27', '23.2', '32']\n",
      "['\\t2024-09-04', '108', '27.9', '23.2', '33.3']\n",
      "['\\t2024-09-05', '108', '26.3', '25.6', '28.8']\n",
      "['\\t2024-09-06', '108', '24', '23.3', '25.7']\n",
      "['\\t2024-09-07', '108', '26.5', '22.8', '31.3']\n",
      "['\\t2024-09-08', '108', '27.2', '22.6', '32.8']\n",
      "['\\t2024-09-09', '108', '28.5', '24.1', '34.1']\n",
      "['\\t2024-09-10', '108', '29.4', '25.6', '33.9']\n",
      "['\\t2024-09-11', '108', '29', '25.4', '34.6']\n",
      "['\\t2024-09-12', '108', '25.4', '24.8', '27.1']\n",
      "['\\t2024-09-13', '108', '25.9', '24.2', '28']\n",
      "['\\t2024-09-14', '108', '28', '25.2', '32.2']\n",
      "['\\t2024-09-15', '108', '27.5', '24.2', '32.4']\n",
      "['\\t2024-09-16', '108', '26.8', '21.3', '32.2']\n",
      "['\\t2024-09-17', '108', '28.6', '25.8', '33.2']\n",
      "['\\t2024-09-18', '108', '29.4', '26.5', '33.6']\n",
      "['\\t', '', '', '', '']\n"
     ]
    }
   ],
   "source": [
    "import csv\n",
    "\n",
    "with open('seoul.csv','r',encoding='cp949')as f:\n",
    "    data= csv.reader(f)\n",
    "    for row in data:\n",
    "        print(row)\n",
    "        "
   ]
  },
  {
   "cell_type": "code",
   "execution_count": 5,
   "metadata": {},
   "outputs": [
    {
     "name": "stdout",
     "output_type": "stream",
     "text": [
      "['\\t', '', '', '', '']\n"
     ]
    }
   ],
   "source": [
    "import csv\n",
    "\n",
    "f=open('seoul.csv','r',encoding='cp949')\n",
    "data= csv.reader(f)\n",
    "\n",
    "for row in data:\n",
    "    if ''in row:\n",
    "        print(row)\n",
    "        \n",
    "     \n",
    "f.close()        \n"
   ]
  },
  {
   "cell_type": "code",
   "execution_count": 6,
   "metadata": {},
   "outputs": [
    {
     "name": "stdout",
     "output_type": "stream",
     "text": [
      "['날짜', '지점', '평균기온(℃)', '최저기온(℃)', '최고기온(℃)']\n"
     ]
    },
    {
     "data": {
      "text/plain": [
       "<function TextIOWrapper.close()>"
      ]
     },
     "execution_count": 6,
     "metadata": {},
     "output_type": "execute_result"
    }
   ],
   "source": [
    "import csv\n",
    "\n",
    "f=open('seoul.csv','r',encoding='cp949')\n",
    "data= csv.reader(f)\n",
    "\n",
    "header = next(data)\n",
    "print(header)\n",
    "\n",
    "f.close"
   ]
  },
  {
   "cell_type": "code",
   "execution_count": 44,
   "metadata": {},
   "outputs": [
    {
     "name": "stdout",
     "output_type": "stream",
     "text": [
      "['날짜', '지점', '평균기온(℃)', '최저기온(℃)', '최고기온(℃)']\n",
      "['\\t', '', '', 999.0, -999.0]\n",
      "['\\t', '', '', 999.0, -999.0]\n",
      "['\\t', '', '', 999.0, -999.0]\n",
      "['\\t', '', '', 999.0, -999.0]\n",
      "['\\t', '', '', 999.0, -999.0]\n",
      "['\\t', '', '', 999.0, -999.0]\n",
      "['\\t', '', '', 999.0, -999.0]\n",
      "['\\t', '', '', 999.0, -999.0]\n",
      "['\\t', '', '', 999.0, -999.0]\n",
      "['\\t', '', '', 999.0, -999.0]\n",
      "['\\t', '', '', 999.0, -999.0]\n",
      "['\\t', '', '', 999.0, -999.0]\n",
      "['\\t', '', '', 999.0, -999.0]\n",
      "['\\t', '', '', 999.0, -999.0]\n",
      "['\\t', '', '', 999.0, -999.0]\n",
      "['\\t', '', '', 999.0, -999.0]\n",
      "['\\t', '', '', 999.0, -999.0]\n",
      "['\\t', '', '', 999.0, -999.0]\n",
      "['\\t', '', '', 999.0, -999.0]\n",
      "['\\t', '', '', 999.0, -999.0]\n",
      "['\\t', '', '', 999.0, -999.0]\n",
      "['\\t', '', '', 999.0, -999.0]\n",
      "['\\t', '', '', 999.0, -999.0]\n",
      "['\\t', '', '', 999.0, -999.0]\n",
      "['\\t', '', '', 999.0, -999.0]\n",
      "['\\t', '', '', 999.0, -999.0]\n",
      "['\\t', '', '', 999.0, -999.0]\n",
      "['\\t', '', '', 999.0, -999.0]\n",
      "['\\t', '', '', 999.0, -999.0]\n",
      "['\\t', '', '', 999.0, -999.0]\n",
      "['\\t', '', '', 999.0, -999.0]\n"
     ]
    }
   ],
   "source": [
    "import csv\n",
    "\n",
    "f=open('seoul.csv','r',encoding='cp949')\n",
    "data= csv.reader(f)\n",
    "\n",
    "header = next(data)\n",
    "print(header)\n",
    "\n",
    "for fow in data:\n",
    "    print(row)\n",
    "    \n",
    "f.close()    "
   ]
  },
  {
   "cell_type": "code",
   "execution_count": 10,
   "metadata": {},
   "outputs": [
    {
     "name": "stdout",
     "output_type": "stream",
     "text": [
      "['날짜', '지점', '평균기온(℃)', '최저기온(℃)', '최고기온(℃)']\n",
      "['2024-08-20', '108', '31.4', '27', 35.4]\n",
      "['2024-08-21', '108', '28.4', '26.9', 30.8]\n",
      "['2024-08-22', '108', '28.6', '27.1', 30.3]\n",
      "['2024-08-23', '108', '28.4', '26.4', 31.8]\n",
      "['2024-08-24', '108', '27.6', '25.1', 30.9]\n",
      "['2024-08-25', '108', '28.5', '24.9', 32.7]\n",
      "['2024-08-26', '108', '28.1', '25.6', 30.6]\n",
      "['2024-08-27', '108', '26.5', '24.6', 30.3]\n",
      "['2024-08-28', '108', '28.2', '23', 33.2]\n",
      "['2024-08-29', '108', '28.4', '23.4', 33.5]\n",
      "['2024-08-30', '108', '28', '23.7', 32.9]\n",
      "['2024-08-31', '108', '27.6', '22.6', 33.0]\n",
      "['2024-09-01', '108', '27.1', '24.6', 31.6]\n",
      "['2024-09-02', '108', '24.5', '22.2', 26.9]\n",
      "['2024-09-03', '108', '27', '23.2', 32.0]\n",
      "['2024-09-04', '108', '27.9', '23.2', 33.3]\n",
      "['2024-09-05', '108', '26.3', '25.6', 28.8]\n",
      "['2024-09-06', '108', '24', '23.3', 25.7]\n",
      "['2024-09-07', '108', '26.5', '22.8', 31.3]\n",
      "['2024-09-08', '108', '27.2', '22.6', 32.8]\n",
      "['2024-09-09', '108', '28.5', '24.1', 34.1]\n",
      "['2024-09-10', '108', '29.4', '25.6', 33.9]\n",
      "['2024-09-11', '108', '29', '25.4', 34.6]\n",
      "['2024-09-12', '108', '25.4', '24.8', 27.1]\n",
      "['2024-09-13', '108', '25.9', '24.2', 28.0]\n",
      "['2024-09-14', '108', '28', '25.2', 32.2]\n",
      "['2024-09-15', '108', '27.5', '24.2', 32.4]\n",
      "['2024-09-16', '108', '26.8', '21.3', 32.2]\n",
      "['2024-09-17', '108', '28.6', '25.8', 33.2]\n",
      "['2024-09-18', '108', '29.4', '26.5', 33.6]\n",
      "['', '', '', '', -999.0]\n"
     ]
    }
   ],
   "source": [
    "import csv\n",
    "\n",
    "f=open('seoul.csv','r',encoding='cp949')\n",
    "data= csv.reader(f)\n",
    "\n",
    "header = next(data)\n",
    "print(header)\n",
    "\n",
    "for row in data:\n",
    "    row[0]=row[0].strip()\n",
    "    \n",
    "    if row[4] =='':\n",
    "        row[4] = -999\n",
    "    row[4] = float(row[4])\n",
    "    print(row)\n",
    "\n",
    "f.close()    "
   ]
  },
  {
   "cell_type": "code",
   "execution_count": 12,
   "metadata": {},
   "outputs": [
    {
     "name": "stdout",
     "output_type": "stream",
     "text": [
      "서울 최고 기온, 일자: 2024-08-20,기온: 35.4\n"
     ]
    }
   ],
   "source": [
    "import csv\n",
    "\n",
    "max_temp = -999\n",
    "max_data=''\n",
    "\n",
    "f=open('seoul.csv')\n",
    "data= csv.reader(f)\n",
    "\n",
    "header=next(data)\n",
    "\n",
    "for row in data:\n",
    "    if row[4] =='':\n",
    "        row[4] = -999\n",
    "        \n",
    "    row[4] = float(row[4])\n",
    "    \n",
    "    if max_temp < row[4]:\n",
    "        max_temp = row[4]\n",
    "        max_data = row[0].strip()\n",
    "        \n",
    "f.close()\n",
    "print(f'서울 최고 기온, 일자: {max_data},기온: {max_temp}')            "
   ]
  },
  {
   "cell_type": "code",
   "execution_count": 15,
   "metadata": {},
   "outputs": [
    {
     "name": "stdout",
     "output_type": "stream",
     "text": [
      "서울 최고 기온, 일자: 2024-08-20,기온: 35.4\n"
     ]
    }
   ],
   "source": [
    "import csv\n",
    "\n",
    "max_temp = -999\n",
    "max_data=''\n",
    "\n",
    "with open('seoul.csv','r',encoding='cp949') as f:\n",
    "    data= csv.reader(f)\n",
    "    header=next(data)\n",
    "\n",
    "\n",
    "    for row in data:\n",
    "       if row[4] =='':\n",
    "        row[4] = -999\n",
    "        \n",
    "       row[4] = float(row[4])\n",
    "    \n",
    "       if max_temp < row[4]:\n",
    "        max_temp = row[4]\n",
    "        max_data = row[0].strip()\n",
    "        \n",
    "print(f'서울 최고 기온, 일자: {max_data},기온: {max_temp}')     "
   ]
  },
  {
   "cell_type": "code",
   "execution_count": 21,
   "metadata": {},
   "outputs": [
    {
     "name": "stdout",
     "output_type": "stream",
     "text": [
      "서울 최고 기온, 일자: 2024-09-16,기온: 21.3\n"
     ]
    }
   ],
   "source": [
    "import csv\n",
    "\n",
    "min_temp = 999\n",
    "min_data=''\n",
    "\n",
    "with open('seoul.csv','r',encoding='cp949') as f:\n",
    "    data= csv.reader(f)\n",
    "    header=next(data)\n",
    "\n",
    "\n",
    "    for row in data:\n",
    "       if row[3] =='':\n",
    "            row[3] = 999\n",
    "        \n",
    "       row[3] = float(row[3])\n",
    "    \n",
    "       if min_temp > row[3]:\n",
    "           min_temp = row[3]\n",
    "           min_data = row[0].strip()\n",
    "        \n",
    "print(f'서울 최고 기온, 일자: {min_data},기온: {min_temp}')     "
   ]
  },
  {
   "cell_type": "code",
   "execution_count": 26,
   "metadata": {},
   "outputs": [
    {
     "name": "stdout",
     "output_type": "stream",
     "text": [
      "서울 최고 기온 10개\n",
      "[35.4, 34.6, 34.1, 33.9, 33.6, 33.5, 33.3, 33.2, 33.2, 33.0]\n",
      "서울 최저 기온 10개\n",
      "[21.3, 22.2, 22.6, 22.6, 22.8, 23.0, 23.2, 23.2, 23.3, 23.4]\n"
     ]
    }
   ],
   "source": [
    "import csv\n",
    "max_temp =[]\n",
    "min_temp =[]\n",
    "\n",
    "with open('seoul.csv','r',encoding='cp949') as f:\n",
    "    data= csv.reader(f)\n",
    "    header=next(data)\n",
    "    \n",
    "    for row in data:\n",
    "        if row[3] == '':\n",
    "            row[3] = 999\n",
    "        if row[4] =='':\n",
    "            row[4] = -999\n",
    "            \n",
    "        row[3] =float(row[3])\n",
    "        row[4] =float(row[4])\n",
    "        \n",
    "        min_temp.append(row[3])\n",
    "        max_temp.append(row[4])\n",
    "        \n",
    "print(f'서울 최고 기온 10개')\n",
    "max_temp.sort(reverse=True)\n",
    "print(max_temp[:10])\n",
    "\n",
    "print(f'서울 최저 기온 10개')\n",
    "min_temp.sort()\n",
    "print(min_temp[:10])            "
   ]
  },
  {
   "cell_type": "code",
   "execution_count": 1,
   "metadata": {},
   "outputs": [
    {
     "name": "stdout",
     "output_type": "stream",
     "text": [
      "Collecting numpy\n",
      "  Downloading numpy-2.1.1-cp312-cp312-win_amd64.whl.metadata (59 kB)\n",
      "     ---------------------------------------- 0.0/59.7 kB ? eta -:--:--\n",
      "     ---------------------------------------- 59.7/59.7 kB 1.1 MB/s eta 0:00:00\n",
      "Downloading numpy-2.1.1-cp312-cp312-win_amd64.whl (12.6 MB)\n",
      "   ---------------------------------------- 0.0/12.6 MB ? eta -:--:--\n",
      "   - -------------------------------------- 0.5/12.6 MB 14.4 MB/s eta 0:00:01\n",
      "   ---- ----------------------------------- 1.3/12.6 MB 16.9 MB/s eta 0:00:01\n",
      "   --------- ------------------------------ 3.0/12.6 MB 23.7 MB/s eta 0:00:01\n",
      "   ---------- ----------------------------- 3.1/12.6 MB 25.1 MB/s eta 0:00:01\n",
      "   ---------------- ----------------------- 5.1/12.6 MB 25.1 MB/s eta 0:00:01\n",
      "   ----------------------- ---------------- 7.3/12.6 MB 30.9 MB/s eta 0:00:01\n",
      "   --------------------------- ------------ 8.8/12.6 MB 31.1 MB/s eta 0:00:01\n",
      "   ------------------------------------- -- 11.7/12.6 MB 43.7 MB/s eta 0:00:01\n",
      "   ---------------------------------------- 12.6/12.6 MB 43.7 MB/s eta 0:00:00\n",
      "Installing collected packages: numpy\n",
      "Successfully installed numpy-2.1.1\n",
      "Note: you may need to restart the kernel to use updated packages.\n"
     ]
    },
    {
     "name": "stderr",
     "output_type": "stream",
     "text": [
      "\n",
      "[notice] A new release of pip is available: 24.0 -> 24.2\n",
      "[notice] To update, run: python.exe -m pip install --upgrade pip\n"
     ]
    }
   ],
   "source": [
    "\n",
    "pip install numpy"
   ]
  },
  {
   "cell_type": "code",
   "execution_count": 2,
   "metadata": {},
   "outputs": [
    {
     "name": "stdout",
     "output_type": "stream",
     "text": [
      "Name: numpy\n",
      "Version: 2.1.1\n",
      "Summary: Fundamental package for array computing in Python\n",
      "Home-page: https://numpy.org\n",
      "Author: Travis E. Oliphant et al.\n",
      "Author-email: \n",
      "License: Copyright (c) 2005-2024, NumPy Developers.\n",
      "All rights reserved.\n",
      "\n",
      "Redistribution and use in source and binary forms, with or without\n",
      "modification, are permitted provided that the following conditions are\n",
      "met:\n",
      "\n",
      "    * Redistributions of source code must retain the above copyright\n",
      "       notice, this list of conditions and the following disclaimer.\n",
      "\n",
      "    * Redistributions in binary form must reproduce the above\n",
      "       copyright notice, this list of conditions and the following\n",
      "       disclaimer in the documentation and/or other materials provided\n",
      "       with the distribution.\n",
      "\n",
      "    * Neither the name of the NumPy Developers nor the names of any\n",
      "       contributors may be used to endorse or promote products derived\n",
      "       from this software without specific prior written permission.\n",
      "\n",
      "THIS SOFTWARE IS PROVIDED BY THE COPYRIGHT HOLDERS AND CONTRIBUTORS\n",
      "\"AS IS\" AND ANY EXPRESS OR IMPLIED WARRANTIES, INCLUDING, BUT NOT\n",
      "LIMITED TO, THE IMPLIED WARRANTIES OF MERCHANTABILITY AND FITNESS FOR\n",
      "A PARTICULAR PURPOSE ARE DISCLAIMED. IN NO EVENT SHALL THE COPYRIGHT\n",
      "OWNER OR CONTRIBUTORS BE LIABLE FOR ANY DIRECT, INDIRECT, INCIDENTAL,\n",
      "SPECIAL, EXEMPLARY, OR CONSEQUENTIAL DAMAGES (INCLUDING, BUT NOT\n",
      "LIMITED TO, PROCUREMENT OF SUBSTITUTE GOODS OR SERVICES; LOSS OF USE,\n",
      "DATA, OR PROFITS; OR BUSINESS INTERRUPTION) HOWEVER CAUSED AND ON ANY\n",
      "THEORY OF LIABILITY, WHETHER IN CONTRACT, STRICT LIABILITY, OR TORT\n",
      "(INCLUDING NEGLIGENCE OR OTHERWISE) ARISING IN ANY WAY OUT OF THE USE\n",
      "OF THIS SOFTWARE, EVEN IF ADVISED OF THE POSSIBILITY OF SUCH DAMAGE.\n",
      "\n",
      "----\n",
      "\n",
      "The NumPy repository and source distributions bundle several libraries that are\n",
      "compatibly licensed.  We list these here.\n",
      "\n",
      "Name: lapack-lite\n",
      "Files: numpy/linalg/lapack_lite/*\n",
      "License: BSD-3-Clause\n",
      "  For details, see numpy/linalg/lapack_lite/LICENSE.txt\n",
      "\n",
      "Name: dragon4\n",
      "Files: numpy/_core/src/multiarray/dragon4.c\n",
      "License: MIT\n",
      "  For license text, see numpy/_core/src/multiarray/dragon4.c\n",
      "\n",
      "Name: libdivide\n",
      "Files: numpy/_core/include/numpy/libdivide/*\n",
      "License: Zlib\n",
      "  For license text, see numpy/_core/include/numpy/libdivide/LICENSE.txt\n",
      "\n",
      "\n",
      "Note that the following files are vendored in the repository and sdist but not\n",
      "installed in built numpy packages:\n",
      "\n",
      "Name: Meson\n",
      "Files: vendored-meson/meson/*\n",
      "License: Apache 2.0\n",
      "  For license text, see vendored-meson/meson/COPYING\n",
      "\n",
      "Name: spin\n",
      "Files: .spin/cmds.py\n",
      "License: BSD-3\n",
      "  For license text, see .spin/LICENSE\n",
      "\n",
      "----\n",
      "\n",
      "This binary distribution of NumPy also bundles the following software:\n",
      "\n",
      "\n",
      "Name: OpenBLAS\n",
      "Files: numpy.libs\\libscipy_openblas*.dll\n",
      "Description: bundled as a dynamically linked library\n",
      "Availability: https://github.com/OpenMathLib/OpenBLAS/\n",
      "License: BSD-3-Clause\n",
      "  Copyright (c) 2011-2014, The OpenBLAS Project\n",
      "  All rights reserved.\n",
      "\n",
      "  Redistribution and use in source and binary forms, with or without\n",
      "  modification, are permitted provided that the following conditions are\n",
      "  met:\n",
      "\n",
      "     1. Redistributions of source code must retain the above copyright\n",
      "        notice, this list of conditions and the following disclaimer.\n",
      "\n",
      "     2. Redistributions in binary form must reproduce the above copyright\n",
      "        notice, this list of conditions and the following disclaimer in\n",
      "        the documentation and/or other materials provided with the\n",
      "        distribution.\n",
      "     3. Neither the name of the OpenBLAS project nor the names of\n",
      "        its contributors may be used to endorse or promote products\n",
      "        derived from this software without specific prior written\n",
      "        permission.\n",
      "\n",
      "  THIS SOFTWARE IS PROVIDED BY THE COPYRIGHT HOLDERS AND CONTRIBUTORS \"AS IS\"\n",
      "  AND ANY EXPRESS OR IMPLIED WARRANTIES, INCLUDING, BUT NOT LIMITED TO, THE\n",
      "  IMPLIED WARRANTIES OF MERCHANTABILITY AND FITNESS FOR A PARTICULAR PURPOSE\n",
      "  ARE DISCLAIMED. IN NO EVENT SHALL THE COPYRIGHT OWNER OR CONTRIBUTORS BE\n",
      "  LIABLE FOR ANY DIRECT, INDIRECT, INCIDENTAL, SPECIAL, EXEMPLARY, OR CONSEQUENTIAL\n",
      "  DAMAGES (INCLUDING, BUT NOT LIMITED TO, PROCUREMENT OF SUBSTITUTE GOODS OR\n",
      "  SERVICES; LOSS OF USE, DATA, OR PROFITS; OR BUSINESS INTERRUPTION) HOWEVER\n",
      "  CAUSED AND ON ANY THEORY OF LIABILITY, WHETHER IN CONTRACT, STRICT LIABILITY,\n",
      "  OR TORT (INCLUDING NEGLIGENCE OR OTHERWISE) ARISING IN ANY WAY OUT OF THE\n",
      "  USE OF THIS SOFTWARE, EVEN IF ADVISED OF THE POSSIBILITY OF SUCH DAMAGE.\n",
      "\n",
      "\n",
      "Name: LAPACK\n",
      "Files: numpy.libs\\libscipy_openblas*.dll\n",
      "Description: bundled in OpenBLAS\n",
      "Availability: https://github.com/OpenMathLib/OpenBLAS/\n",
      "License: BSD-3-Clause-Attribution\n",
      "  Copyright (c) 1992-2013 The University of Tennessee and The University\n",
      "                          of Tennessee Research Foundation.  All rights\n",
      "                          reserved.\n",
      "  Copyright (c) 2000-2013 The University of California Berkeley. All\n",
      "                          rights reserved.\n",
      "  Copyright (c) 2006-2013 The University of Colorado Denver.  All rights\n",
      "                          reserved.\n",
      "\n",
      "  $COPYRIGHT$\n",
      "\n",
      "  Additional copyrights may follow\n",
      "\n",
      "  $HEADER$\n",
      "\n",
      "  Redistribution and use in source and binary forms, with or without\n",
      "  modification, are permitted provided that the following conditions are\n",
      "  met:\n",
      "\n",
      "  - Redistributions of source code must retain the above copyright\n",
      "    notice, this list of conditions and the following disclaimer.\n",
      "\n",
      "  - Redistributions in binary form must reproduce the above copyright\n",
      "    notice, this list of conditions and the following disclaimer listed\n",
      "    in this license in the documentation and/or other materials\n",
      "    provided with the distribution.\n",
      "\n",
      "  - Neither the name of the copyright holders nor the names of its\n",
      "    contributors may be used to endorse or promote products derived from\n",
      "    this software without specific prior written permission.\n",
      "\n",
      "  The copyright holders provide no reassurances that the source code\n",
      "  provided does not infringe any patent, copyright, or any other\n",
      "  intellectual property rights of third parties.  The copyright holders\n",
      "  disclaim any liability to any recipient for claims brought against\n",
      "  recipient by any third party for infringement of that parties\n",
      "  intellectual property rights.\n",
      "\n",
      "  THIS SOFTWARE IS PROVIDED BY THE COPYRIGHT HOLDERS AND CONTRIBUTORS\n",
      "  \"AS IS\" AND ANY EXPRESS OR IMPLIED WARRANTIES, INCLUDING, BUT NOT\n",
      "  LIMITED TO, THE IMPLIED WARRANTIES OF MERCHANTABILITY AND FITNESS FOR\n",
      "  A PARTICULAR PURPOSE ARE DISCLAIMED. IN NO EVENT SHALL THE COPYRIGHT\n",
      "  OWNER OR CONTRIBUTORS BE LIABLE FOR ANY DIRECT, INDIRECT, INCIDENTAL,\n",
      "  SPECIAL, EXEMPLARY, OR CONSEQUENTIAL DAMAGES (INCLUDING, BUT NOT\n",
      "  LIMITED TO, PROCUREMENT OF SUBSTITUTE GOODS OR SERVICES; LOSS OF USE,\n",
      "  DATA, OR PROFITS; OR BUSINESS INTERRUPTION) HOWEVER CAUSED AND ON ANY\n",
      "  THEORY OF LIABILITY, WHETHER IN CONTRACT, STRICT LIABILITY, OR TORT\n",
      "  (INCLUDING NEGLIGENCE OR OTHERWISE) ARISING IN ANY WAY OUT OF THE USE\n",
      "  OF THIS SOFTWARE, EVEN IF ADVISED OF THE POSSIBILITY OF SUCH DAMAGE.\n",
      "\n",
      "\n",
      "Name: GCC runtime library\n",
      "Files: numpy.libs\\libscipy_openblas*.dll\n",
      "Description: statically linked to files compiled with gcc\n",
      "Availability: https://gcc.gnu.org/git/?p=gcc.git;a=tree;f=libgfortran\n",
      "License: GPL-3.0-with-GCC-exception\n",
      "  Copyright (C) 2002-2017 Free Software Foundation, Inc.\n",
      "\n",
      "  Libgfortran is free software; you can redistribute it and/or modify\n",
      "  it under the terms of the GNU General Public License as published by\n",
      "  the Free Software Foundation; either version 3, or (at your option)\n",
      "  any later version.\n",
      "\n",
      "  Libgfortran is distributed in the hope that it will be useful,\n",
      "  but WITHOUT ANY WARRANTY; without even the implied warranty of\n",
      "  MERCHANTABILITY or FITNESS FOR A PARTICULAR PURPOSE.  See the\n",
      "  GNU General Public License for more details.\n",
      "\n",
      "  Under Section 7 of GPL version 3, you are granted additional\n",
      "  permissions described in the GCC Runtime Library Exception, version\n",
      "  3.1, as published by the Free Software Foundation.\n",
      "\n",
      "  You should have received a copy of the GNU General Public License and\n",
      "  a copy of the GCC Runtime Library Exception along with this program;\n",
      "  see the files COPYING3 and COPYING.RUNTIME respectively.  If not, see\n",
      "  <http://www.gnu.org/licenses/>.\n",
      "\n",
      "----\n",
      "\n",
      "Full text of license texts referred to above follows (that they are\n",
      "listed below does not necessarily imply the conditions apply to the\n",
      "present binary release):\n",
      "\n",
      "----\n",
      "\n",
      "GCC RUNTIME LIBRARY EXCEPTION\n",
      "\n",
      "Version 3.1, 31 March 2009\n",
      "\n",
      "Copyright (C) 2009 Free Software Foundation, Inc. <http://fsf.org/>\n",
      "\n",
      "Everyone is permitted to copy and distribute verbatim copies of this\n",
      "license document, but changing it is not allowed.\n",
      "\n",
      "This GCC Runtime Library Exception (\"Exception\") is an additional\n",
      "permission under section 7 of the GNU General Public License, version\n",
      "3 (\"GPLv3\"). It applies to a given file (the \"Runtime Library\") that\n",
      "bears a notice placed by the copyright holder of the file stating that\n",
      "the file is governed by GPLv3 along with this Exception.\n",
      "\n",
      "When you use GCC to compile a program, GCC may combine portions of\n",
      "certain GCC header files and runtime libraries with the compiled\n",
      "program. The purpose of this Exception is to allow compilation of\n",
      "non-GPL (including proprietary) programs to use, in this way, the\n",
      "header files and runtime libraries covered by this Exception.\n",
      "\n",
      "0. Definitions.\n",
      "\n",
      "A file is an \"Independent Module\" if it either requires the Runtime\n",
      "Library for execution after a Compilation Process, or makes use of an\n",
      "interface provided by the Runtime Library, but is not otherwise based\n",
      "on the Runtime Library.\n",
      "\n",
      "\"GCC\" means a version of the GNU Compiler Collection, with or without\n",
      "modifications, governed by version 3 (or a specified later version) of\n",
      "the GNU General Public License (GPL) with the option of using any\n",
      "subsequent versions published by the FSF.\n",
      "\n",
      "\"GPL-compatible Software\" is software whose conditions of propagation,\n",
      "modification and use would permit combination with GCC in accord with\n",
      "the license of GCC.\n",
      "\n",
      "\"Target Code\" refers to output from any compiler for a real or virtual\n",
      "target processor architecture, in executable form or suitable for\n",
      "input to an assembler, loader, linker and/or execution\n",
      "phase. Notwithstanding that, Target Code does not include data in any\n",
      "format that is used as a compiler intermediate representation, or used\n",
      "for producing a compiler intermediate representation.\n",
      "\n",
      "The \"Compilation Process\" transforms code entirely represented in\n",
      "non-intermediate languages designed for human-written code, and/or in\n",
      "Java Virtual Machine byte code, into Target Code. Thus, for example,\n",
      "use of source code generators and preprocessors need not be considered\n",
      "part of the Compilation Process, since the Compilation Process can be\n",
      "understood as starting with the output of the generators or\n",
      "preprocessors.\n",
      "\n",
      "A Compilation Process is \"Eligible\" if it is done using GCC, alone or\n",
      "with other GPL-compatible software, or if it is done without using any\n",
      "work based on GCC. For example, using non-GPL-compatible Software to\n",
      "optimize any GCC intermediate representations would not qualify as an\n",
      "Eligible Compilation Process.\n",
      "\n",
      "1. Grant of Additional Permission.\n",
      "\n",
      "You have permission to propagate a work of Target Code formed by\n",
      "combining the Runtime Library with Independent Modules, even if such\n",
      "propagation would otherwise violate the terms of GPLv3, provided that\n",
      "all Target Code was generated by Eligible Compilation Processes. You\n",
      "may then convey such a combination under terms of your choice,\n",
      "consistent with the licensing of the Independent Modules.\n",
      "\n",
      "2. No Weakening of GCC Copyleft.\n",
      "\n",
      "The availability of this Exception does not imply any general\n",
      "presumption that third-party software is unaffected by the copyleft\n",
      "requirements of the license of GCC.\n",
      "\n",
      "----\n",
      "\n",
      "                    GNU GENERAL PUBLIC LICENSE\n",
      "                       Version 3, 29 June 2007\n",
      "\n",
      " Copyright (C) 2007 Free Software Foundation, Inc. <http://fsf.org/>\n",
      " Everyone is permitted to copy and distribute verbatim copies\n",
      " of this license document, but changing it is not allowed.\n",
      "\n",
      "                            Preamble\n",
      "\n",
      "  The GNU General Public License is a free, copyleft license for\n",
      "software and other kinds of works.\n",
      "\n",
      "  The licenses for most software and other practical works are designed\n",
      "to take away your freedom to share and change the works.  By contrast,\n",
      "the GNU General Public License is intended to guarantee your freedom to\n",
      "share and change all versions of a program--to make sure it remains free\n",
      "software for all its users.  We, the Free Software Foundation, use the\n",
      "GNU General Public License for most of our software; it applies also to\n",
      "any other work released this way by its authors.  You can apply it to\n",
      "your programs, too.\n",
      "\n",
      "  When we speak of free software, we are referring to freedom, not\n",
      "price.  Our General Public Licenses are designed to make sure that you\n",
      "have the freedom to distribute copies of free software (and charge for\n",
      "them if you wish), that you receive source code or can get it if you\n",
      "want it, that you can change the software or use pieces of it in new\n",
      "free programs, and that you know you can do these things.\n",
      "\n",
      "  To protect your rights, we need to prevent others from denying you\n",
      "these rights or asking you to surrender the rights.  Therefore, you have\n",
      "certain responsibilities if you distribute copies of the software, or if\n",
      "you modify it: responsibilities to respect the freedom of others.\n",
      "\n",
      "  For example, if you distribute copies of such a program, whether\n",
      "gratis or for a fee, you must pass on to the recipients the same\n",
      "freedoms that you received.  You must make sure that they, too, receive\n",
      "or can get the source code.  And you must show them these terms so they\n",
      "know their rights.\n",
      "\n",
      "  Developers that use the GNU GPL protect your rights with two steps:\n",
      "(1) assert copyright on the software, and (2) offer you this License\n",
      "giving you legal permission to copy, distribute and/or modify it.\n",
      "\n",
      "  For the developers' and authors' protection, the GPL clearly explains\n",
      "that there is no warranty for this free software.  For both users' and\n",
      "authors' sake, the GPL requires that modified versions be marked as\n",
      "changed, so that their problems will not be attributed erroneously to\n",
      "authors of previous versions.\n",
      "\n",
      "  Some devices are designed to deny users access to install or run\n",
      "modified versions of the software inside them, although the manufacturer\n",
      "can do so.  This is fundamentally incompatible with the aim of\n",
      "protecting users' freedom to change the software.  The systematic\n",
      "pattern of such abuse occurs in the area of products for individuals to\n",
      "use, which is precisely where it is most unacceptable.  Therefore, we\n",
      "have designed this version of the GPL to prohibit the practice for those\n",
      "products.  If such problems arise substantially in other domains, we\n",
      "stand ready to extend this provision to those domains in future versions\n",
      "of the GPL, as needed to protect the freedom of users.\n",
      "\n",
      "  Finally, every program is threatened constantly by software patents.\n",
      "States should not allow patents to restrict development and use of\n",
      "software on general-purpose computers, but in those that do, we wish to\n",
      "avoid the special danger that patents applied to a free program could\n",
      "make it effectively proprietary.  To prevent this, the GPL assures that\n",
      "patents cannot be used to render the program non-free.\n",
      "\n",
      "  The precise terms and conditions for copying, distribution and\n",
      "modification follow.\n",
      "\n",
      "                       TERMS AND CONDITIONS\n",
      "\n",
      "  0. Definitions.\n",
      "\n",
      "  \"This License\" refers to version 3 of the GNU General Public License.\n",
      "\n",
      "  \"Copyright\" also means copyright-like laws that apply to other kinds of\n",
      "works, such as semiconductor masks.\n",
      "\n",
      "  \"The Program\" refers to any copyrightable work licensed under this\n",
      "License.  Each licensee is addressed as \"you\".  \"Licensees\" and\n",
      "\"recipients\" may be individuals or organizations.\n",
      "\n",
      "  To \"modify\" a work means to copy from or adapt all or part of the work\n",
      "in a fashion requiring copyright permission, other than the making of an\n",
      "exact copy.  The resulting work is called a \"modified version\" of the\n",
      "earlier work or a work \"based on\" the earlier work.\n",
      "\n",
      "  A \"covered work\" means either the unmodified Program or a work based\n",
      "on the Program.\n",
      "\n",
      "  To \"propagate\" a work means to do anything with it that, without\n",
      "permission, would make you directly or secondarily liable for\n",
      "infringement under applicable copyright law, except executing it on a\n",
      "computer or modifying a private copy.  Propagation includes copying,\n",
      "distribution (with or without modification), making available to the\n",
      "public, and in some countries other activities as well.\n",
      "\n",
      "  To \"convey\" a work means any kind of propagation that enables other\n",
      "parties to make or receive copies.  Mere interaction with a user through\n",
      "a computer network, with no transfer of a copy, is not conveying.\n",
      "\n",
      "  An interactive user interface displays \"Appropriate Legal Notices\"\n",
      "to the extent that it includes a convenient and prominently visible\n",
      "feature that (1) displays an appropriate copyright notice, and (2)\n",
      "tells the user that there is no warranty for the work (except to the\n",
      "extent that warranties are provided), that licensees may convey the\n",
      "work under this License, and how to view a copy of this License.  If\n",
      "the interface presents a list of user commands or options, such as a\n",
      "menu, a prominent item in the list meets this criterion.\n",
      "\n",
      "  1. Source Code.\n",
      "\n",
      "  The \"source code\" for a work means the preferred form of the work\n",
      "for making modifications to it.  \"Object code\" means any non-source\n",
      "form of a work.\n",
      "\n",
      "  A \"Standard Interface\" means an interface that either is an official\n",
      "standard defined by a recognized standards body, or, in the case of\n",
      "interfaces specified for a particular programming language, one that\n",
      "is widely used among developers working in that language.\n",
      "\n",
      "  The \"System Libraries\" of an executable work include anything, other\n",
      "than the work as a whole, that (a) is included in the normal form of\n",
      "packaging a Major Component, but which is not part of that Major\n",
      "Component, and (b) serves only to enable use of the work with that\n",
      "Major Component, or to implement a Standard Interface for which an\n",
      "implementation is available to the public in source code form.  A\n",
      "\"Major Component\", in this context, means a major essential component\n",
      "(kernel, window system, and so on) of the specific operating system\n",
      "(if any) on which the executable work runs, or a compiler used to\n",
      "produce the work, or an object code interpreter used to run it.\n",
      "\n",
      "  The \"Corresponding Source\" for a work in object code form means all\n",
      "the source code needed to generate, install, and (for an executable\n",
      "work) run the object code and to modify the work, including scripts to\n",
      "control those activities.  However, it does not include the work's\n",
      "System Libraries, or general-purpose tools or generally available free\n",
      "programs which are used unmodified in performing those activities but\n",
      "which are not part of the work.  For example, Corresponding Source\n",
      "includes interface definition files associated with source files for\n",
      "the work, and the source code for shared libraries and dynamically\n",
      "linked subprograms that the work is specifically designed to require,\n",
      "such as by intimate data communication or control flow between those\n",
      "subprograms and other parts of the work.\n",
      "\n",
      "  The Corresponding Source need not include anything that users\n",
      "can regenerate automatically from other parts of the Corresponding\n",
      "Source.\n",
      "\n",
      "  The Corresponding Source for a work in source code form is that\n",
      "same work.\n",
      "\n",
      "  2. Basic Permissions.\n",
      "\n",
      "  All rights granted under this License are granted for the term of\n",
      "copyright on the Program, and are irrevocable provided the stated\n",
      "conditions are met.  This License explicitly affirms your unlimited\n",
      "permission to run the unmodified Program.  The output from running a\n",
      "covered work is covered by this License only if the output, given its\n",
      "content, constitutes a covered work.  This License acknowledges your\n",
      "rights of fair use or other equivalent, as provided by copyright law.\n",
      "\n",
      "  You may make, run and propagate covered works that you do not\n",
      "convey, without conditions so long as your license otherwise remains\n",
      "in force.  You may convey covered works to others for the sole purpose\n",
      "of having them make modifications exclusively for you, or provide you\n",
      "with facilities for running those works, provided that you comply with\n",
      "the terms of this License in conveying all material for which you do\n",
      "not control copyright.  Those thus making or running the covered works\n",
      "for you must do so exclusively on your behalf, under your direction\n",
      "and control, on terms that prohibit them from making any copies of\n",
      "your copyrighted material outside their relationship with you.\n",
      "\n",
      "  Conveying under any other circumstances is permitted solely under\n",
      "the conditions stated below.  Sublicensing is not allowed; section 10\n",
      "makes it unnecessary.\n",
      "\n",
      "  3. Protecting Users' Legal Rights From Anti-Circumvention Law.\n",
      "\n",
      "  No covered work shall be deemed part of an effective technological\n",
      "measure under any applicable law fulfilling obligations under article\n",
      "11 of the WIPO copyright treaty adopted on 20 December 1996, or\n",
      "similar laws prohibiting or restricting circumvention of such\n",
      "measures.\n",
      "\n",
      "  When you convey a covered work, you waive any legal power to forbid\n",
      "circumvention of technological measures to the extent such circumvention\n",
      "is effected by exercising rights under this License with respect to\n",
      "the covered work, and you disclaim any intention to limit operation or\n",
      "modification of the work as a means of enforcing, against the work's\n",
      "users, your or third parties' legal rights to forbid circumvention of\n",
      "technological measures.\n",
      "\n",
      "  4. Conveying Verbatim Copies.\n",
      "\n",
      "  You may convey verbatim copies of the Program's source code as you\n",
      "receive it, in any medium, provided that you conspicuously and\n",
      "appropriately publish on each copy an appropriate copyright notice;\n",
      "keep intact all notices stating that this License and any\n",
      "non-permissive terms added in accord with section 7 apply to the code;\n",
      "keep intact all notices of the absence of any warranty; and give all\n",
      "recipients a copy of this License along with the Program.\n",
      "\n",
      "  You may charge any price or no price for each copy that you convey,\n",
      "and you may offer support or warranty protection for a fee.\n",
      "\n",
      "  5. Conveying Modified Source Versions.\n",
      "\n",
      "  You may convey a work based on the Program, or the modifications to\n",
      "produce it from the Program, in the form of source code under the\n",
      "terms of section 4, provided that you also meet all of these conditions:\n",
      "\n",
      "    a) The work must carry prominent notices stating that you modified\n",
      "    it, and giving a relevant date.\n",
      "\n",
      "    b) The work must carry prominent notices stating that it is\n",
      "    released under this License and any conditions added under section\n",
      "    7.  This requirement modifies the requirement in section 4 to\n",
      "    \"keep intact all notices\".\n",
      "\n",
      "    c) You must license the entire work, as a whole, under this\n",
      "    License to anyone who comes into possession of a copy.  This\n",
      "    License will therefore apply, along with any applicable section 7\n",
      "    additional terms, to the whole of the work, and all its parts,\n",
      "    regardless of how they are packaged.  This License gives no\n",
      "    permission to license the work in any other way, but it does not\n",
      "    invalidate such permission if you have separately received it.\n",
      "\n",
      "    d) If the work has interactive user interfaces, each must display\n",
      "    Appropriate Legal Notices; however, if the Program has interactive\n",
      "    interfaces that do not display Appropriate Legal Notices, your\n",
      "    work need not make them do so.\n",
      "\n",
      "  A compilation of a covered work with other separate and independent\n",
      "works, which are not by their nature extensions of the covered work,\n",
      "and which are not combined with it such as to form a larger program,\n",
      "in or on a volume of a storage or distribution medium, is called an\n",
      "\"aggregate\" if the compilation and its resulting copyright are not\n",
      "used to limit the access or legal rights of the compilation's users\n",
      "beyond what the individual works permit.  Inclusion of a covered work\n",
      "in an aggregate does not cause this License to apply to the other\n",
      "parts of the aggregate.\n",
      "\n",
      "  6. Conveying Non-Source Forms.\n",
      "\n",
      "  You may convey a covered work in object code form under the terms\n",
      "of sections 4 and 5, provided that you also convey the\n",
      "machine-readable Corresponding Source under the terms of this License,\n",
      "in one of these ways:\n",
      "\n",
      "    a) Convey the object code in, or embodied in, a physical product\n",
      "    (including a physical distribution medium), accompanied by the\n",
      "    Corresponding Source fixed on a durable physical medium\n",
      "    customarily used for software interchange.\n",
      "\n",
      "    b) Convey the object code in, or embodied in, a physical product\n",
      "    (including a physical distribution medium), accompanied by a\n",
      "    written offer, valid for at least three years and valid for as\n",
      "    long as you offer spare parts or customer support for that product\n",
      "    model, to give anyone who possesses the object code either (1) a\n",
      "    copy of the Corresponding Source for all the software in the\n",
      "    product that is covered by this License, on a durable physical\n",
      "    medium customarily used for software interchange, for a price no\n",
      "    more than your reasonable cost of physically performing this\n",
      "    conveying of source, or (2) access to copy the\n",
      "    Corresponding Source from a network server at no charge.\n",
      "\n",
      "    c) Convey individual copies of the object code with a copy of the\n",
      "    written offer to provide the Corresponding Source.  This\n",
      "    alternative is allowed only occasionally and noncommercially, and\n",
      "    only if you received the object code with such an offer, in accord\n",
      "    with subsection 6b.\n",
      "\n",
      "    d) Convey the object code by offering access from a designated\n",
      "    place (gratis or for a charge), and offer equivalent access to the\n",
      "    Corresponding Source in the same way through the same place at no\n",
      "    further charge.  You need not require recipients to copy the\n",
      "    Corresponding Source along with the object code.  If the place to\n",
      "    copy the object code is a network server, the Corresponding Source\n",
      "    may be on a different server (operated by you or a third party)\n",
      "    that supports equivalent copying facilities, provided you maintain\n",
      "    clear directions next to the object code saying where to find the\n",
      "    Corresponding Source.  Regardless of what server hosts the\n",
      "    Corresponding Source, you remain obligated to ensure that it is\n",
      "    available for as long as needed to satisfy these requirements.\n",
      "\n",
      "    e) Convey the object code using peer-to-peer transmission, provided\n",
      "    you inform other peers where the object code and Corresponding\n",
      "    Source of the work are being offered to the general public at no\n",
      "    charge under subsection 6d.\n",
      "\n",
      "  A separable portion of the object code, whose source code is excluded\n",
      "from the Corresponding Source as a System Library, need not be\n",
      "included in conveying the object code work.\n",
      "\n",
      "  A \"User Product\" is either (1) a \"consumer product\", which means any\n",
      "tangible personal property which is normally used for personal, family,\n",
      "or household purposes, or (2) anything designed or sold for incorporation\n",
      "into a dwelling.  In determining whether a product is a consumer product,\n",
      "doubtful cases shall be resolved in favor of coverage.  For a particular\n",
      "product received by a particular user, \"normally used\" refers to a\n",
      "typical or common use of that class of product, regardless of the status\n",
      "of the particular user or of the way in which the particular user\n",
      "actually uses, or expects or is expected to use, the product.  A product\n",
      "is a consumer product regardless of whether the product has substantial\n",
      "commercial, industrial or non-consumer uses, unless such uses represent\n",
      "the only significant mode of use of the product.\n",
      "\n",
      "  \"Installation Information\" for a User Product means any methods,\n",
      "procedures, authorization keys, or other information required to install\n",
      "and execute modified versions of a covered work in that User Product from\n",
      "a modified version of its Corresponding Source.  The information must\n",
      "suffice to ensure that the continued functioning of the modified object\n",
      "code is in no case prevented or interfered with solely because\n",
      "modification has been made.\n",
      "\n",
      "  If you convey an object code work under this section in, or with, or\n",
      "specifically for use in, a User Product, and the conveying occurs as\n",
      "part of a transaction in which the right of possession and use of the\n",
      "User Product is transferred to the recipient in perpetuity or for a\n",
      "fixed term (regardless of how the transaction is characterized), the\n",
      "Corresponding Source conveyed under this section must be accompanied\n",
      "by the Installation Information.  But this requirement does not apply\n",
      "if neither you nor any third party retains the ability to install\n",
      "modified object code on the User Product (for example, the work has\n",
      "been installed in ROM).\n",
      "\n",
      "  The requirement to provide Installation Information does not include a\n",
      "requirement to continue to provide support service, warranty, or updates\n",
      "for a work that has been modified or installed by the recipient, or for\n",
      "the User Product in which it has been modified or installed.  Access to a\n",
      "network may be denied when the modification itself materially and\n",
      "adversely affects the operation of the network or violates the rules and\n",
      "protocols for communication across the network.\n",
      "\n",
      "  Corresponding Source conveyed, and Installation Information provided,\n",
      "in accord with this section must be in a format that is publicly\n",
      "documented (and with an implementation available to the public in\n",
      "source code form), and must require no special password or key for\n",
      "unpacking, reading or copying.\n",
      "\n",
      "  7. Additional Terms.\n",
      "\n",
      "  \"Additional permissions\" are terms that supplement the terms of this\n",
      "License by making exceptions from one or more of its conditions.\n",
      "Additional permissions that are applicable to the entire Program shall\n",
      "be treated as though they were included in this License, to the extent\n",
      "that they are valid under applicable law.  If additional permissions\n",
      "apply only to part of the Program, that part may be used separately\n",
      "under those permissions, but the entire Program remains governed by\n",
      "this License without regard to the additional permissions.\n",
      "\n",
      "  When you convey a copy of a covered work, you may at your option\n",
      "remove any additional permissions from that copy, or from any part of\n",
      "it.  (Additional permissions may be written to require their own\n",
      "removal in certain cases when you modify the work.)  You may place\n",
      "additional permissions on material, added by you to a covered work,\n",
      "for which you have or can give appropriate copyright permission.\n",
      "\n",
      "  Notwithstanding any other provision of this License, for material you\n",
      "add to a covered work, you may (if authorized by the copyright holders of\n",
      "that material) supplement the terms of this License with terms:\n",
      "\n",
      "    a) Disclaiming warranty or limiting liability differently from the\n",
      "    terms of sections 15 and 16 of this License; or\n",
      "\n",
      "    b) Requiring preservation of specified reasonable legal notices or\n",
      "    author attributions in that material or in the Appropriate Legal\n",
      "    Notices displayed by works containing it; or\n",
      "\n",
      "    c) Prohibiting misrepresentation of the origin of that material, or\n",
      "    requiring that modified versions of such material be marked in\n",
      "    reasonable ways as different from the original version; or\n",
      "\n",
      "    d) Limiting the use for publicity purposes of names of licensors or\n",
      "    authors of the material; or\n",
      "\n",
      "    e) Declining to grant rights under trademark law for use of some\n",
      "    trade names, trademarks, or service marks; or\n",
      "\n",
      "    f) Requiring indemnification of licensors and authors of that\n",
      "    material by anyone who conveys the material (or modified versions of\n",
      "    it) with contractual assumptions of liability to the recipient, for\n",
      "    any liability that these contractual assumptions directly impose on\n",
      "    those licensors and authors.\n",
      "\n",
      "  All other non-permissive additional terms are considered \"further\n",
      "restrictions\" within the meaning of section 10.  If the Program as you\n",
      "received it, or any part of it, contains a notice stating that it is\n",
      "governed by this License along with a term that is a further\n",
      "restriction, you may remove that term.  If a license document contains\n",
      "a further restriction but permits relicensing or conveying under this\n",
      "License, you may add to a covered work material governed by the terms\n",
      "of that license document, provided that the further restriction does\n",
      "not survive such relicensing or conveying.\n",
      "\n",
      "  If you add terms to a covered work in accord with this section, you\n",
      "must place, in the relevant source files, a statement of the\n",
      "additional terms that apply to those files, or a notice indicating\n",
      "where to find the applicable terms.\n",
      "\n",
      "  Additional terms, permissive or non-permissive, may be stated in the\n",
      "form of a separately written license, or stated as exceptions;\n",
      "the above requirements apply either way.\n",
      "\n",
      "  8. Termination.\n",
      "\n",
      "  You may not propagate or modify a covered work except as expressly\n",
      "provided under this License.  Any attempt otherwise to propagate or\n",
      "modify it is void, and will automatically terminate your rights under\n",
      "this License (including any patent licenses granted under the third\n",
      "paragraph of section 11).\n",
      "\n",
      "  However, if you cease all violation of this License, then your\n",
      "license from a particular copyright holder is reinstated (a)\n",
      "provisionally, unless and until the copyright holder explicitly and\n",
      "finally terminates your license, and (b) permanently, if the copyright\n",
      "holder fails to notify you of the violation by some reasonable means\n",
      "prior to 60 days after the cessation.\n",
      "\n",
      "  Moreover, your license from a particular copyright holder is\n",
      "reinstated permanently if the copyright holder notifies you of the\n",
      "violation by some reasonable means, this is the first time you have\n",
      "received notice of violation of this License (for any work) from that\n",
      "copyright holder, and you cure the violation prior to 30 days after\n",
      "your receipt of the notice.\n",
      "\n",
      "  Termination of your rights under this section does not terminate the\n",
      "licenses of parties who have received copies or rights from you under\n",
      "this License.  If your rights have been terminated and not permanently\n",
      "reinstated, you do not qualify to receive new licenses for the same\n",
      "material under section 10.\n",
      "\n",
      "  9. Acceptance Not Required for Having Copies.\n",
      "\n",
      "  You are not required to accept this License in order to receive or\n",
      "run a copy of the Program.  Ancillary propagation of a covered work\n",
      "occurring solely as a consequence of using peer-to-peer transmission\n",
      "to receive a copy likewise does not require acceptance.  However,\n",
      "nothing other than this License grants you permission to propagate or\n",
      "modify any covered work.  These actions infringe copyright if you do\n",
      "not accept this License.  Therefore, by modifying or propagating a\n",
      "covered work, you indicate your acceptance of this License to do so.\n",
      "\n",
      "  10. Automatic Licensing of Downstream Recipients.\n",
      "\n",
      "  Each time you convey a covered work, the recipient automatically\n",
      "receives a license from the original licensors, to run, modify and\n",
      "propagate that work, subject to this License.  You are not responsible\n",
      "for enforcing compliance by third parties with this License.\n",
      "\n",
      "  An \"entity transaction\" is a transaction transferring control of an\n",
      "organization, or substantially all assets of one, or subdividing an\n",
      "organization, or merging organizations.  If propagation of a covered\n",
      "work results from an entity transaction, each party to that\n",
      "transaction who receives a copy of the work also receives whatever\n",
      "licenses to the work the party's predecessor in interest had or could\n",
      "give under the previous paragraph, plus a right to possession of the\n",
      "Corresponding Source of the work from the predecessor in interest, if\n",
      "the predecessor has it or can get it with reasonable efforts.\n",
      "\n",
      "  You may not impose any further restrictions on the exercise of the\n",
      "rights granted or affirmed under this License.  For example, you may\n",
      "not impose a license fee, royalty, or other charge for exercise of\n",
      "rights granted under this License, and you may not initiate litigation\n",
      "(including a cross-claim or counterclaim in a lawsuit) alleging that\n",
      "any patent claim is infringed by making, using, selling, offering for\n",
      "sale, or importing the Program or any portion of it.\n",
      "\n",
      "  11. Patents.\n",
      "\n",
      "  A \"contributor\" is a copyright holder who authorizes use under this\n",
      "License of the Program or a work on which the Program is based.  The\n",
      "work thus licensed is called the contributor's \"contributor version\".\n",
      "\n",
      "  A contributor's \"essential patent claims\" are all patent claims\n",
      "owned or controlled by the contributor, whether already acquired or\n",
      "hereafter acquired, that would be infringed by some manner, permitted\n",
      "by this License, of making, using, or selling its contributor version,\n",
      "but do not include claims that would be infringed only as a\n",
      "consequence of further modification of the contributor version.  For\n",
      "purposes of this definition, \"control\" includes the right to grant\n",
      "patent sublicenses in a manner consistent with the requirements of\n",
      "this License.\n",
      "\n",
      "  Each contributor grants you a non-exclusive, worldwide, royalty-free\n",
      "patent license under the contributor's essential patent claims, to\n",
      "make, use, sell, offer for sale, import and otherwise run, modify and\n",
      "propagate the contents of its contributor version.\n",
      "\n",
      "  In the following three paragraphs, a \"patent license\" is any express\n",
      "agreement or commitment, however denominated, not to enforce a patent\n",
      "(such as an express permission to practice a patent or covenant not to\n",
      "sue for patent infringement).  To \"grant\" such a patent license to a\n",
      "party means to make such an agreement or commitment not to enforce a\n",
      "patent against the party.\n",
      "\n",
      "  If you convey a covered work, knowingly relying on a patent license,\n",
      "and the Corresponding Source of the work is not available for anyone\n",
      "to copy, free of charge and under the terms of this License, through a\n",
      "publicly available network server or other readily accessible means,\n",
      "then you must either (1) cause the Corresponding Source to be so\n",
      "available, or (2) arrange to deprive yourself of the benefit of the\n",
      "patent license for this particular work, or (3) arrange, in a manner\n",
      "consistent with the requirements of this License, to extend the patent\n",
      "license to downstream recipients.  \"Knowingly relying\" means you have\n",
      "actual knowledge that, but for the patent license, your conveying the\n",
      "covered work in a country, or your recipient's use of the covered work\n",
      "in a country, would infringe one or more identifiable patents in that\n",
      "country that you have reason to believe are valid.\n",
      "\n",
      "  If, pursuant to or in connection with a single transaction or\n",
      "arrangement, you convey, or propagate by procuring conveyance of, a\n",
      "covered work, and grant a patent license to some of the parties\n",
      "receiving the covered work authorizing them to use, propagate, modify\n",
      "or convey a specific copy of the covered work, then the patent license\n",
      "you grant is automatically extended to all recipients of the covered\n",
      "work and works based on it.\n",
      "\n",
      "  A patent license is \"discriminatory\" if it does not include within\n",
      "the scope of its coverage, prohibits the exercise of, or is\n",
      "conditioned on the non-exercise of one or more of the rights that are\n",
      "specifically granted under this License.  You may not convey a covered\n",
      "work if you are a party to an arrangement with a third party that is\n",
      "in the business of distributing software, under which you make payment\n",
      "to the third party based on the extent of your activity of conveying\n",
      "the work, and under which the third party grants, to any of the\n",
      "parties who would receive the covered work from you, a discriminatory\n",
      "patent license (a) in connection with copies of the covered work\n",
      "conveyed by you (or copies made from those copies), or (b) primarily\n",
      "for and in connection with specific products or compilations that\n",
      "contain the covered work, unless you entered into that arrangement,\n",
      "or that patent license was granted, prior to 28 March 2007.\n",
      "\n",
      "  Nothing in this License shall be construed as excluding or limiting\n",
      "any implied license or other defenses to infringement that may\n",
      "otherwise be available to you under applicable patent law.\n",
      "\n",
      "  12. No Surrender of Others' Freedom.\n",
      "\n",
      "  If conditions are imposed on you (whether by court order, agreement or\n",
      "otherwise) that contradict the conditions of this License, they do not\n",
      "excuse you from the conditions of this License.  If you cannot convey a\n",
      "covered work so as to satisfy simultaneously your obligations under this\n",
      "License and any other pertinent obligations, then as a consequence you may\n",
      "not convey it at all.  For example, if you agree to terms that obligate you\n",
      "to collect a royalty for further conveying from those to whom you convey\n",
      "the Program, the only way you could satisfy both those terms and this\n",
      "License would be to refrain entirely from conveying the Program.\n",
      "\n",
      "  13. Use with the GNU Affero General Public License.\n",
      "\n",
      "  Notwithstanding any other provision of this License, you have\n",
      "permission to link or combine any covered work with a work licensed\n",
      "under version 3 of the GNU Affero General Public License into a single\n",
      "combined work, and to convey the resulting work.  The terms of this\n",
      "License will continue to apply to the part which is the covered work,\n",
      "but the special requirements of the GNU Affero General Public License,\n",
      "section 13, concerning interaction through a network will apply to the\n",
      "combination as such.\n",
      "\n",
      "  14. Revised Versions of this License.\n",
      "\n",
      "  The Free Software Foundation may publish revised and/or new versions of\n",
      "the GNU General Public License from time to time.  Such new versions will\n",
      "be similar in spirit to the present version, but may differ in detail to\n",
      "address new problems or concerns.\n",
      "\n",
      "  Each version is given a distinguishing version number.  If the\n",
      "Program specifies that a certain numbered version of the GNU General\n",
      "Public License \"or any later version\" applies to it, you have the\n",
      "option of following the terms and conditions either of that numbered\n",
      "version or of any later version published by the Free Software\n",
      "Foundation.  If the Program does not specify a version number of the\n",
      "GNU General Public License, you may choose any version ever published\n",
      "by the Free Software Foundation.\n",
      "\n",
      "  If the Program specifies that a proxy can decide which future\n",
      "versions of the GNU General Public License can be used, that proxy's\n",
      "public statement of acceptance of a version permanently authorizes you\n",
      "to choose that version for the Program.\n",
      "\n",
      "  Later license versions may give you additional or different\n",
      "permissions.  However, no additional obligations are imposed on any\n",
      "author or copyright holder as a result of your choosing to follow a\n",
      "later version.\n",
      "\n",
      "  15. Disclaimer of Warranty.\n",
      "\n",
      "  THERE IS NO WARRANTY FOR THE PROGRAM, TO THE EXTENT PERMITTED BY\n",
      "APPLICABLE LAW.  EXCEPT WHEN OTHERWISE STATED IN WRITING THE COPYRIGHT\n",
      "HOLDERS AND/OR OTHER PARTIES PROVIDE THE PROGRAM \"AS IS\" WITHOUT WARRANTY\n",
      "OF ANY KIND, EITHER EXPRESSED OR IMPLIED, INCLUDING, BUT NOT LIMITED TO,\n",
      "THE IMPLIED WARRANTIES OF MERCHANTABILITY AND FITNESS FOR A PARTICULAR\n",
      "PURPOSE.  THE ENTIRE RISK AS TO THE QUALITY AND PERFORMANCE OF THE PROGRAM\n",
      "IS WITH YOU.  SHOULD THE PROGRAM PROVE DEFECTIVE, YOU ASSUME THE COST OF\n",
      "ALL NECESSARY SERVICING, REPAIR OR CORRECTION.\n",
      "\n",
      "  16. Limitation of Liability.\n",
      "\n",
      "  IN NO EVENT UNLESS REQUIRED BY APPLICABLE LAW OR AGREED TO IN WRITING\n",
      "WILL ANY COPYRIGHT HOLDER, OR ANY OTHER PARTY WHO MODIFIES AND/OR CONVEYS\n",
      "THE PROGRAM AS PERMITTED ABOVE, BE LIABLE TO YOU FOR DAMAGES, INCLUDING ANY\n",
      "GENERAL, SPECIAL, INCIDENTAL OR CONSEQUENTIAL DAMAGES ARISING OUT OF THE\n",
      "USE OR INABILITY TO USE THE PROGRAM (INCLUDING BUT NOT LIMITED TO LOSS OF\n",
      "DATA OR DATA BEING RENDERED INACCURATE OR LOSSES SUSTAINED BY YOU OR THIRD\n",
      "PARTIES OR A FAILURE OF THE PROGRAM TO OPERATE WITH ANY OTHER PROGRAMS),\n",
      "EVEN IF SUCH HOLDER OR OTHER PARTY HAS BEEN ADVISED OF THE POSSIBILITY OF\n",
      "SUCH DAMAGES.\n",
      "\n",
      "  17. Interpretation of Sections 15 and 16.\n",
      "\n",
      "  If the disclaimer of warranty and limitation of liability provided\n",
      "above cannot be given local legal effect according to their terms,\n",
      "reviewing courts shall apply local law that most closely approximates\n",
      "an absolute waiver of all civil liability in connection with the\n",
      "Program, unless a warranty or assumption of liability accompanies a\n",
      "copy of the Program in return for a fee.\n",
      "\n",
      "                     END OF TERMS AND CONDITIONS\n",
      "\n",
      "            How to Apply These Terms to Your New Programs\n",
      "\n",
      "  If you develop a new program, and you want it to be of the greatest\n",
      "possible use to the public, the best way to achieve this is to make it\n",
      "free software which everyone can redistribute and change under these terms.\n",
      "\n",
      "  To do so, attach the following notices to the program.  It is safest\n",
      "to attach them to the start of each source file to most effectively\n",
      "state the exclusion of warranty; and each file should have at least\n",
      "the \"copyright\" line and a pointer to where the full notice is found.\n",
      "\n",
      "    <one line to give the program's name and a brief idea of what it does.>\n",
      "    Copyright (C) <year>  <name of author>\n",
      "\n",
      "    This program is free software: you can redistribute it and/or modify\n",
      "    it under the terms of the GNU General Public License as published by\n",
      "    the Free Software Foundation, either version 3 of the License, or\n",
      "    (at your option) any later version.\n",
      "\n",
      "    This program is distributed in the hope that it will be useful,\n",
      "    but WITHOUT ANY WARRANTY; without even the implied warranty of\n",
      "    MERCHANTABILITY or FITNESS FOR A PARTICULAR PURPOSE.  See the\n",
      "    GNU General Public License for more details.\n",
      "\n",
      "    You should have received a copy of the GNU General Public License\n",
      "    along with this program.  If not, see <http://www.gnu.org/licenses/>.\n",
      "\n",
      "Also add information on how to contact you by electronic and paper mail.\n",
      "\n",
      "  If the program does terminal interaction, make it output a short\n",
      "notice like this when it starts in an interactive mode:\n",
      "\n",
      "    <program>  Copyright (C) <year>  <name of author>\n",
      "    This program comes with ABSOLUTELY NO WARRANTY; for details type `show w'.\n",
      "    This is free software, and you are welcome to redistribute it\n",
      "    under certain conditions; type `show c' for details.\n",
      "\n",
      "The hypothetical commands `show w' and `show c' should show the appropriate\n",
      "parts of the General Public License.  Of course, your program's commands\n",
      "might be different; for a GUI interface, you would use an \"about box\".\n",
      "\n",
      "  You should also get your employer (if you work as a programmer) or school,\n",
      "if any, to sign a \"copyright disclaimer\" for the program, if necessary.\n",
      "For more information on this, and how to apply and follow the GNU GPL, see\n",
      "<http://www.gnu.org/licenses/>.\n",
      "\n",
      "  The GNU General Public License does not permit incorporating your program\n",
      "into proprietary programs.  If your program is a subroutine library, you\n",
      "may consider it more useful to permit linking proprietary applications with\n",
      "the library.  If this is what you want to do, use the GNU Lesser General\n",
      "Public License instead of this License.  But first, please read\n",
      "<http://www.gnu.org/philosophy/why-not-lgpl.html>.\n",
      "Location: c:\\Users\\109-1\\AppData\\Local\\Programs\\Python\\Python312\\Lib\\site-packages\n",
      "Requires: \n",
      "Required-by: \n",
      "Note: you may need to restart the kernel to use updated packages.\n"
     ]
    }
   ],
   "source": [
    "pip show numpy"
   ]
  },
  {
   "cell_type": "code",
   "execution_count": 3,
   "metadata": {},
   "outputs": [],
   "source": [
    "import numpy as np \n",
    "\n",
    "a = np.array([6,7,8])"
   ]
  },
  {
   "cell_type": "code",
   "execution_count": 4,
   "metadata": {},
   "outputs": [
    {
     "data": {
      "text/plain": [
       "array([6, 7, 8])"
      ]
     },
     "execution_count": 4,
     "metadata": {},
     "output_type": "execute_result"
    }
   ],
   "source": [
    "a"
   ]
  },
  {
   "cell_type": "code",
   "execution_count": 5,
   "metadata": {},
   "outputs": [
    {
     "data": {
      "text/plain": [
       "numpy.ndarray"
      ]
     },
     "execution_count": 5,
     "metadata": {},
     "output_type": "execute_result"
    }
   ],
   "source": [
    "type(a)"
   ]
  },
  {
   "cell_type": "code",
   "execution_count": 6,
   "metadata": {},
   "outputs": [
    {
     "data": {
      "text/plain": [
       "array([ 0,  1,  2,  3,  4,  5,  6,  7,  8,  9, 10, 11, 12, 13, 14])"
      ]
     },
     "execution_count": 6,
     "metadata": {},
     "output_type": "execute_result"
    }
   ],
   "source": [
    "b = np.arange(15)\n",
    "b"
   ]
  },
  {
   "cell_type": "code",
   "execution_count": 7,
   "metadata": {},
   "outputs": [
    {
     "data": {
      "text/plain": [
       "numpy.ndarray"
      ]
     },
     "execution_count": 7,
     "metadata": {},
     "output_type": "execute_result"
    }
   ],
   "source": [
    "type(b)"
   ]
  },
  {
   "cell_type": "code",
   "execution_count": 11,
   "metadata": {},
   "outputs": [
    {
     "data": {
      "text/plain": [
       "array([[ 0,  1,  2,  3,  4],\n",
       "       [ 5,  6,  7,  8,  9],\n",
       "       [10, 11, 12, 13, 14]])"
      ]
     },
     "execution_count": 11,
     "metadata": {},
     "output_type": "execute_result"
    }
   ],
   "source": [
    "c= np.arange(15).reshape(3,5)\n",
    "c"
   ]
  },
  {
   "cell_type": "code",
   "execution_count": 12,
   "metadata": {},
   "outputs": [
    {
     "data": {
      "text/plain": [
       "(3, 5)"
      ]
     },
     "execution_count": 12,
     "metadata": {},
     "output_type": "execute_result"
    }
   ],
   "source": [
    "c.shape"
   ]
  },
  {
   "cell_type": "code",
   "execution_count": 14,
   "metadata": {},
   "outputs": [
    {
     "data": {
      "text/plain": [
       "'int64'"
      ]
     },
     "execution_count": 14,
     "metadata": {},
     "output_type": "execute_result"
    }
   ],
   "source": [
    "c.dtype.name\n"
   ]
  },
  {
   "cell_type": "code",
   "execution_count": 15,
   "metadata": {},
   "outputs": [
    {
     "data": {
      "text/plain": [
       "8"
      ]
     },
     "execution_count": 15,
     "metadata": {},
     "output_type": "execute_result"
    }
   ],
   "source": [
    "c.itemsize"
   ]
  },
  {
   "cell_type": "code",
   "execution_count": 16,
   "metadata": {},
   "outputs": [
    {
     "data": {
      "text/plain": [
       "15"
      ]
     },
     "execution_count": 16,
     "metadata": {},
     "output_type": "execute_result"
    }
   ],
   "source": [
    "c.size"
   ]
  },
  {
   "cell_type": "code",
   "execution_count": 17,
   "metadata": {},
   "outputs": [
    {
     "name": "stdout",
     "output_type": "stream",
     "text": [
      "Help on built-in function arange in module numpy:\n",
      "\n",
      "arange(...)\n",
      "    arange([start,] stop[, step,], dtype=None, *, device=None, like=None)\n",
      "\n",
      "    Return evenly spaced values within a given interval.\n",
      "\n",
      "    ``arange`` can be called with a varying number of positional arguments:\n",
      "\n",
      "    * ``arange(stop)``: Values are generated within the half-open interval\n",
      "      ``[0, stop)`` (in other words, the interval including `start` but\n",
      "      excluding `stop`).\n",
      "    * ``arange(start, stop)``: Values are generated within the half-open\n",
      "      interval ``[start, stop)``.\n",
      "    * ``arange(start, stop, step)`` Values are generated within the half-open\n",
      "      interval ``[start, stop)``, with spacing between values given by\n",
      "      ``step``.\n",
      "\n",
      "    For integer arguments the function is roughly equivalent to the Python\n",
      "    built-in :py:class:`range`, but returns an ndarray rather than a ``range``\n",
      "    instance.\n",
      "\n",
      "    When using a non-integer step, such as 0.1, it is often better to use\n",
      "    `numpy.linspace`.\n",
      "\n",
      "    See the Warning sections below for more information.\n",
      "\n",
      "    Parameters\n",
      "    ----------\n",
      "    start : integer or real, optional\n",
      "        Start of interval.  The interval includes this value.  The default\n",
      "        start value is 0.\n",
      "    stop : integer or real\n",
      "        End of interval.  The interval does not include this value, except\n",
      "        in some cases where `step` is not an integer and floating point\n",
      "        round-off affects the length of `out`.\n",
      "    step : integer or real, optional\n",
      "        Spacing between values.  For any output `out`, this is the distance\n",
      "        between two adjacent values, ``out[i+1] - out[i]``.  The default\n",
      "        step size is 1.  If `step` is specified as a position argument,\n",
      "        `start` must also be given.\n",
      "    dtype : dtype, optional\n",
      "        The type of the output array.  If `dtype` is not given, infer the data\n",
      "        type from the other input arguments.\n",
      "    device : str, optional\n",
      "        The device on which to place the created array. Default: ``None``.\n",
      "        For Array-API interoperability only, so must be ``\"cpu\"`` if passed.\n",
      "\n",
      "        .. versionadded:: 2.0.0\n",
      "    like : array_like, optional\n",
      "        Reference object to allow the creation of arrays which are not\n",
      "        NumPy arrays. If an array-like passed in as ``like`` supports\n",
      "        the ``__array_function__`` protocol, the result will be defined\n",
      "        by it. In this case, it ensures the creation of an array object\n",
      "        compatible with that passed in via this argument.\n",
      "\n",
      "        .. versionadded:: 1.20.0\n",
      "\n",
      "    Returns\n",
      "    -------\n",
      "    arange : ndarray\n",
      "        Array of evenly spaced values.\n",
      "\n",
      "        For floating point arguments, the length of the result is\n",
      "        ``ceil((stop - start)/step)``.  Because of floating point overflow,\n",
      "        this rule may result in the last element of `out` being greater\n",
      "        than `stop`.\n",
      "\n",
      "    Warnings\n",
      "    --------\n",
      "    The length of the output might not be numerically stable.\n",
      "\n",
      "    Another stability issue is due to the internal implementation of\n",
      "    `numpy.arange`.\n",
      "    The actual step value used to populate the array is\n",
      "    ``dtype(start + step) - dtype(start)`` and not `step`. Precision loss\n",
      "    can occur here, due to casting or due to using floating points when\n",
      "    `start` is much larger than `step`. This can lead to unexpected\n",
      "    behaviour. For example::\n",
      "\n",
      "      >>> np.arange(0, 5, 0.5, dtype=int)\n",
      "      array([0, 0, 0, 0, 0, 0, 0, 0, 0, 0])\n",
      "      >>> np.arange(-3, 3, 0.5, dtype=int)\n",
      "      array([-3, -2, -1,  0,  1,  2,  3,  4,  5,  6,  7,  8])\n",
      "\n",
      "    In such cases, the use of `numpy.linspace` should be preferred.\n",
      "\n",
      "    The built-in :py:class:`range` generates :std:doc:`Python built-in integers\n",
      "    that have arbitrary size <python:c-api/long>`, while `numpy.arange`\n",
      "    produces `numpy.int32` or `numpy.int64` numbers. This may result in\n",
      "    incorrect results for large integer values::\n",
      "\n",
      "      >>> power = 40\n",
      "      >>> modulo = 10000\n",
      "      >>> x1 = [(n ** power) % modulo for n in range(8)]\n",
      "      >>> x2 = [(n ** power) % modulo for n in np.arange(8)]\n",
      "      >>> print(x1)\n",
      "      [0, 1, 7776, 8801, 6176, 625, 6576, 4001]  # correct\n",
      "      >>> print(x2)\n",
      "      [0, 1, 7776, 7185, 0, 5969, 4816, 3361]  # incorrect\n",
      "\n",
      "    See Also\n",
      "    --------\n",
      "    numpy.linspace : Evenly spaced numbers with careful handling of endpoints.\n",
      "    numpy.ogrid: Arrays of evenly spaced numbers in N-dimensions.\n",
      "    numpy.mgrid: Grid-shaped arrays of evenly spaced numbers in N-dimensions.\n",
      "    :ref:`how-to-partition`\n",
      "\n",
      "    Examples\n",
      "    --------\n",
      "    >>> import numpy as np\n",
      "    >>> np.arange(3)\n",
      "    array([0, 1, 2])\n",
      "    >>> np.arange(3.0)\n",
      "    array([ 0.,  1.,  2.])\n",
      "    >>> np.arange(3,7)\n",
      "    array([3, 4, 5, 6])\n",
      "    >>> np.arange(3,7,2)\n",
      "    array([3, 5])\n",
      "\n"
     ]
    }
   ],
   "source": [
    "help(np.arange)"
   ]
  },
  {
   "cell_type": "code",
   "execution_count": 18,
   "metadata": {},
   "outputs": [
    {
     "data": {
      "text/plain": [
       "array([0, 1, 2, 3])"
      ]
     },
     "execution_count": 18,
     "metadata": {},
     "output_type": "execute_result"
    }
   ],
   "source": [
    "np.arange(4)"
   ]
  },
  {
   "cell_type": "code",
   "execution_count": 19,
   "metadata": {},
   "outputs": [
    {
     "data": {
      "text/plain": [
       "array([1, 3, 5, 7, 9])"
      ]
     },
     "execution_count": 19,
     "metadata": {},
     "output_type": "execute_result"
    }
   ],
   "source": [
    "np.arange(1,10,2)"
   ]
  },
  {
   "cell_type": "code",
   "execution_count": 20,
   "metadata": {},
   "outputs": [
    {
     "data": {
      "text/plain": [
       "array([0., 1.])"
      ]
     },
     "execution_count": 20,
     "metadata": {},
     "output_type": "execute_result"
    }
   ],
   "source": [
    "np.arange(0,1.2)"
   ]
  },
  {
   "cell_type": "code",
   "execution_count": 21,
   "metadata": {},
   "outputs": [
    {
     "data": {
      "text/plain": [
       "array([0. , 0.2, 0.4, 0.6, 0.8])"
      ]
     },
     "execution_count": 21,
     "metadata": {},
     "output_type": "execute_result"
    }
   ],
   "source": [
    "np.arange(0,1, 0.2)"
   ]
  },
  {
   "cell_type": "code",
   "execution_count": 22,
   "metadata": {},
   "outputs": [
    {
     "data": {
      "text/plain": [
       "array([0. , 0.4, 0.8, 1.2, 1.6, 2. , 2.4, 2.8, 3.2, 3.6, 4. , 4.4, 4.8,\n",
       "       5.2, 5.6, 6. , 6.4, 6.8, 7.2, 7.6, 8. , 8.4, 8.8, 9.2, 9.6])"
      ]
     },
     "execution_count": 22,
     "metadata": {},
     "output_type": "execute_result"
    }
   ],
   "source": [
    "np.arange(0,10,0.4)"
   ]
  },
  {
   "cell_type": "code",
   "execution_count": 23,
   "metadata": {},
   "outputs": [
    {
     "data": {
      "text/plain": [
       "array([ 0.,  1.,  2.,  3.,  4.,  5.,  6.,  7.,  8.,  9., 10.])"
      ]
     },
     "execution_count": 23,
     "metadata": {},
     "output_type": "execute_result"
    }
   ],
   "source": [
    "np.linspace(0,10,11)"
   ]
  },
  {
   "cell_type": "code",
   "execution_count": 24,
   "metadata": {},
   "outputs": [
    {
     "data": {
      "text/plain": [
       "array([ 0.        ,  1.11111111,  2.22222222,  3.33333333,  4.44444444,\n",
       "        5.55555556,  6.66666667,  7.77777778,  8.88888889, 10.        ])"
      ]
     },
     "execution_count": 24,
     "metadata": {},
     "output_type": "execute_result"
    }
   ],
   "source": [
    "np.linspace(0,10,10)"
   ]
  },
  {
   "cell_type": "code",
   "execution_count": 25,
   "metadata": {},
   "outputs": [
    {
     "data": {
      "text/plain": [
       "1.1111111111111112"
      ]
     },
     "execution_count": 25,
     "metadata": {},
     "output_type": "execute_result"
    }
   ],
   "source": [
    "(10-0) / (10-1)"
   ]
  },
  {
   "cell_type": "code",
   "execution_count": 26,
   "metadata": {},
   "outputs": [
    {
     "data": {
      "text/plain": [
       "array([0., 1., 2., 3., 4., 5.])"
      ]
     },
     "execution_count": 26,
     "metadata": {},
     "output_type": "execute_result"
    }
   ],
   "source": [
    "np.linspace(0,5,6)"
   ]
  },
  {
   "cell_type": "code",
   "execution_count": 27,
   "metadata": {},
   "outputs": [
    {
     "data": {
      "text/plain": [
       "array([0.  , 1.25, 2.5 , 3.75, 5.  ])"
      ]
     },
     "execution_count": 27,
     "metadata": {},
     "output_type": "execute_result"
    }
   ],
   "source": [
    "np.linspace(0,5,5)"
   ]
  },
  {
   "cell_type": "code",
   "execution_count": 28,
   "metadata": {},
   "outputs": [
    {
     "data": {
      "text/plain": [
       "1.25"
      ]
     },
     "execution_count": 28,
     "metadata": {},
     "output_type": "execute_result"
    }
   ],
   "source": [
    "(5-0) / (5-1)"
   ]
  },
  {
   "cell_type": "code",
   "execution_count": 34,
   "metadata": {},
   "outputs": [
    {
     "name": "stdout",
     "output_type": "stream",
     "text": [
      "Collecting matplotlib\n",
      "  Downloading matplotlib-3.9.2-cp312-cp312-win_amd64.whl.metadata (11 kB)\n",
      "Collecting contourpy>=1.0.1 (from matplotlib)\n",
      "  Downloading contourpy-1.3.0-cp312-cp312-win_amd64.whl.metadata (5.4 kB)\n",
      "Collecting cycler>=0.10 (from matplotlib)\n",
      "  Downloading cycler-0.12.1-py3-none-any.whl.metadata (3.8 kB)\n",
      "Collecting fonttools>=4.22.0 (from matplotlib)\n",
      "  Downloading fonttools-4.53.1-cp312-cp312-win_amd64.whl.metadata (165 kB)\n",
      "     ---------------------------------------- 0.0/165.9 kB ? eta -:--:--\n",
      "     -------------------------------------  163.8/165.9 kB 5.0 MB/s eta 0:00:01\n",
      "     -------------------------------------- 165.9/165.9 kB 5.0 MB/s eta 0:00:00\n",
      "Collecting kiwisolver>=1.3.1 (from matplotlib)\n",
      "  Downloading kiwisolver-1.4.7-cp312-cp312-win_amd64.whl.metadata (6.4 kB)\n",
      "Requirement already satisfied: numpy>=1.23 in c:\\users\\109-1\\appdata\\local\\programs\\python\\python312\\lib\\site-packages (from matplotlib) (2.1.1)\n",
      "Requirement already satisfied: packaging>=20.0 in c:\\users\\109-1\\appdata\\roaming\\python\\python312\\site-packages (from matplotlib) (24.1)\n",
      "Collecting pillow>=8 (from matplotlib)\n",
      "  Downloading pillow-10.4.0-cp312-cp312-win_amd64.whl.metadata (9.3 kB)\n",
      "Collecting pyparsing>=2.3.1 (from matplotlib)\n",
      "  Downloading pyparsing-3.1.4-py3-none-any.whl.metadata (5.1 kB)\n",
      "Requirement already satisfied: python-dateutil>=2.7 in c:\\users\\109-1\\appdata\\roaming\\python\\python312\\site-packages (from matplotlib) (2.9.0.post0)\n",
      "Requirement already satisfied: six>=1.5 in c:\\users\\109-1\\appdata\\roaming\\python\\python312\\site-packages (from python-dateutil>=2.7->matplotlib) (1.16.0)\n",
      "Downloading matplotlib-3.9.2-cp312-cp312-win_amd64.whl (7.8 MB)\n",
      "   ---------------------------------------- 0.0/7.8 MB ? eta -:--:--\n",
      "   --- ------------------------------------ 0.6/7.8 MB 13.5 MB/s eta 0:00:01\n",
      "   ----- ---------------------------------- 1.0/7.8 MB 13.1 MB/s eta 0:00:01\n",
      "   --------- ------------------------------ 1.9/7.8 MB 12.1 MB/s eta 0:00:01\n",
      "   --------------- ------------------------ 2.9/7.8 MB 14.4 MB/s eta 0:00:01\n",
      "   ---------------------- ----------------- 4.5/7.8 MB 17.9 MB/s eta 0:00:01\n",
      "   ------------------------------ --------- 6.0/7.8 MB 20.1 MB/s eta 0:00:01\n",
      "   ---------------------------------------- 7.8/7.8 MB 23.8 MB/s eta 0:00:00\n",
      "Downloading contourpy-1.3.0-cp312-cp312-win_amd64.whl (218 kB)\n",
      "   ---------------------------------------- 0.0/218.3 kB ? eta -:--:--\n",
      "   --------------------------------------- 218.3/218.3 kB 13.9 MB/s eta 0:00:00\n",
      "Downloading cycler-0.12.1-py3-none-any.whl (8.3 kB)\n",
      "Downloading fonttools-4.53.1-cp312-cp312-win_amd64.whl (2.2 MB)\n",
      "   ---------------------------------------- 0.0/2.2 MB ? eta -:--:--\n",
      "   ---------------------------------------- 2.2/2.2 MB 145.5 MB/s eta 0:00:00\n",
      "Downloading kiwisolver-1.4.7-cp312-cp312-win_amd64.whl (55 kB)\n",
      "   ---------------------------------------- 0.0/55.9 kB ? eta -:--:--\n",
      "   ---------------------------------------- 55.9/55.9 kB ? eta 0:00:00\n",
      "Downloading pillow-10.4.0-cp312-cp312-win_amd64.whl (2.6 MB)\n",
      "   ---------------------------------------- 0.0/2.6 MB ? eta -:--:--\n",
      "   ---------------------------------------- 2.6/2.6 MB 82.1 MB/s eta 0:00:00\n",
      "Downloading pyparsing-3.1.4-py3-none-any.whl (104 kB)\n",
      "   ---------------------------------------- 0.0/104.1 kB ? eta -:--:--\n",
      "   ---------------------------------------- 104.1/104.1 kB ? eta 0:00:00\n",
      "Installing collected packages: pyparsing, pillow, kiwisolver, fonttools, cycler, contourpy, matplotlib\n",
      "Successfully installed contourpy-1.3.0 cycler-0.12.1 fonttools-4.53.1 kiwisolver-1.4.7 matplotlib-3.9.2 pillow-10.4.0 pyparsing-3.1.4\n",
      "Note: you may need to restart the kernel to use updated packages.\n"
     ]
    },
    {
     "name": "stderr",
     "output_type": "stream",
     "text": [
      "\n",
      "[notice] A new release of pip is available: 24.0 -> 24.2\n",
      "[notice] To update, run: python.exe -m pip install --upgrade pip\n"
     ]
    }
   ],
   "source": [
    "pip install matplotlib"
   ]
  },
  {
   "cell_type": "code",
   "execution_count": 31,
   "metadata": {},
   "outputs": [],
   "source": [
    "%config InlineBackend.figure_format = 'retina'"
   ]
  },
  {
   "cell_type": "code",
   "execution_count": 35,
   "metadata": {},
   "outputs": [
    {
     "data": {
      "image/png": "[encoded data removed]",
      "text/plain": [
       "<Figure size 640x480 with 1 Axes>"
      ]
     },
     "metadata": {
      "image/png": {
       "height": 413,
       "width": 547
      }
     },
     "output_type": "display_data"
    }
   ],
   "source": [
    "import matplotlib.pyplot as plt\n",
    "\n",
    "plt.plot([0,1,2,3])\n",
    "plt.show()"
   ]
  },
  {
   "cell_type": "code",
   "execution_count": 36,
   "metadata": {},
   "outputs": [
    {
     "data": {
      "image/png": "[encoded data removed]",
      "text/plain": [
       "<Figure size 640x480 with 1 Axes>"
      ]
     },
     "metadata": {
      "image/png": {
       "height": 413,
       "width": 543
      }
     },
     "output_type": "display_data"
    }
   ],
   "source": [
    "import matplotlib.pyplot as plt\n",
    "\n",
    "plt.plot([10,20,30,40])\n",
    "plt.show()"
   ]
  },
  {
   "cell_type": "code",
   "execution_count": 37,
   "metadata": {},
   "outputs": [
    {
     "data": {
      "image/png": "[encoded data removed]",
      "text/plain": [
       "<Figure size 640x480 with 1 Axes>"
      ]
     },
     "metadata": {
      "image/png": {
       "height": 413,
       "width": 543
      }
     },
     "output_type": "display_data"
    }
   ],
   "source": [
    "import matplotlib.pyplot as plt\n",
    "\n",
    "plt.plot([1,2,3,4],[10,20,30,40])\n",
    "plt.show()"
   ]
  },
  {
   "cell_type": "code",
   "execution_count": 38,
   "metadata": {},
   "outputs": [
    {
     "data": {
      "image/png": "[encoded data removed]",
      "text/plain": [
       "<Figure size 640x480 with 1 Axes>"
      ]
     },
     "metadata": {
      "image/png": {
       "height": 413,
       "width": 543
      }
     },
     "output_type": "display_data"
    }
   ],
   "source": [
    "import matplotlib.pyplot as plt\n",
    "\n",
    "x=np.linspace(-5,5,101)\n",
    "plt.plot(x,x**2)\n",
    "plt.show()"
   ]
  },
  {
   "cell_type": "code",
   "execution_count": 39,
   "metadata": {},
   "outputs": [
    {
     "data": {
      "image/png": "[encoded data removed]",
      "text/plain": [
       "<Figure size 640x480 with 1 Axes>"
      ]
     },
     "metadata": {
      "image/png": {
       "height": 434,
       "width": 568
      }
     },
     "output_type": "display_data"
    }
   ],
   "source": [
    "import matplotlib.pyplot as plt\n",
    "\n",
    "x=np.arange(-5,5,0.01)\n",
    "plt.title('sin cos graph')\n",
    "plt.plot(x,np.sin(x),np.cos(x))\n",
    "plt.show()"
   ]
  },
  {
   "cell_type": "code",
   "execution_count": null,
   "metadata": {},
   "outputs": [],
   "source": []
  }
 ],
 "metadata": {
  "kernelspec": {
   "display_name": "Python 3",
   "language": "python",
   "name": "python3"
  },
  "language_info": {
   "codemirror_mode": {
    "name": "ipython",
    "version": 3
   },
   "file_extension": ".py",
   "mimetype": "text/x-python",
   "name": "python",
   "nbconvert_exporter": "python",
   "pygments_lexer": "ipython3",
   "version": "3.12.4"
  }
 },
 "nbformat": 4,
 "nbformat_minor": 2
}
